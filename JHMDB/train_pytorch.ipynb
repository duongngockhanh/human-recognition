{
  "nbformat": 4,
  "nbformat_minor": 0,
  "metadata": {
    "colab": {
      "provenance": [],
      "gpuType": "T4"
    },
    "kernelspec": {
      "name": "python3",
      "display_name": "Python 3"
    },
    "language_info": {
      "name": "python"
    },
    "accelerator": "GPU"
  },
  "cells": [
    {
      "cell_type": "code",
      "source": [],
      "metadata": {
        "id": "JTcOexlJznT_"
      },
      "execution_count": null,
      "outputs": []
    },
    {
      "cell_type": "code",
      "execution_count": null,
      "metadata": {
        "colab": {
          "base_uri": "https://localhost:8080/"
        },
        "id": "iZX0A_bpqLd3",
        "outputId": "1423c2ad-259d-4f21-ee58-b53dc85ca4ab"
      },
      "outputs": [
        {
          "output_type": "stream",
          "name": "stdout",
          "text": [
            "[0, 0, 0, 0, 0, 0, 0, 0, 0, 0, 0, 0, 0, 0, 0, 0, 0, 0, 0, 0, 0, 0, 0, 0, 0, 0, 0, 0, 0, 0, 0, 0, 0, 0, 0, 0, 0, 0, 0, 0, 0, 0, 0, 0, 0, 0, 0, 0, 0, 0, 0, 0, 0, 0, 0, 0, 0, 0, 0, 0, 0, 0, 0, 0, 0, 0, 0, 0, 0, 0, 0, 0, 0, 0, 0, 0, 0, 0, 0, 0, 0, 0, 0, 0, 0, 0, 0, 0, 0, 0, 0, 0, 0, 0, 0, 0, 0, 0, 0, 0, 0, 0, 0, 0, 0, 0, 0, 0, 0, 0, 0, 0, 0, 0, 0, 0, 0, 0, 0, 0, 0, 0, 0, 0, 0, 0, 0, 0, 0, 0, 0, 0, 0, 0, 0, 0, 0, 0, 0, 0, 0, 0, 0, 0, 0, 0, 0, 0, 0, 0, 0, 0, 0, 0, 0, 0, 0, 0, 0, 0, 0, 0, 0, 0, 0, 0, 0, 0, 0, 0, 0, 0, 0, 0, 0, 0, 0, 0, 0, 0, 0, 0, 0, 0, 0, 0, 0, 0, 0, 0, 0, 0, 0, 0, 0, 0, 0, 0, 0, 0, 0, 0, 0, 0, 0, 0, 0, 0, 0, 0, 0, 0, 0, 0, 0, 0, 0, 0, 0, 0, 0, 0, 0, 0, 0, 0, 0, 0, 0, 0, 0, 0, 0, 0, 0, 0, 0, 0, 0, 0, 0, 0, 0, 0, 0, 0, 0, 0, 0, 0, 0, 0, 0, 0, 0, 0, 0, 0, 0, 0, 0, 0, 0, 0, 0, 0, 0, 0, 0, 0, 0, 0, 0, 0, 0, 0, 0, 0, 0, 0, 0, 0, 0, 0, 0, 0, 0, 0, 0, 0, 0, 0, 0, 0, 0, 0, 0, 0, 0, 0, 0, 0, 0, 0, 0, 0, 0, 0, 0, 0, 0, 0, 0, 0, 0, 0, 0, 0, 0, 0, 0, 0, 0, 0, 0, 0, 0, 0, 0, 0, 0, 0, 0, 0, 0, 0, 0, 0, 0, 0, 0, 0, 0, 0, 0, 0, 0, 0, 0, 0, 0, 0, 0, 0, 0, 0, 0, 0, 0, 0, 0, 0, 0, 0, 0, 0, 0, 0, 0, 0, 0, 0, 0, 0, 0, 0, 0, 0, 0, 0, 0, 0, 0, 0, 0, 0, 0, 0, 0, 0, 0, 0, 0, 0, 0, 0, 0, 0, 0, 0, 0, 0, 0, 0, 0, 0, 0, 0, 0, 0, 0, 0, 0, 0, 0, 0, 0, 0, 0, 0, 0, 0, 0, 0, 0, 0, 0, 0, 0, 0, 0, 0, 0, 0, 0, 0, 0, 0, 0, 0, 0, 0, 0, 0, 0, 0, 0, 0, 0, 0, 0, 0, 0, 0, 0, 0, 0, 0, 0, 0, 0, 0, 0, 0, 0, 0, 0, 0, 0, 0, 0, 0, 0, 0, 0, 0, 0, 0, 0, 0, 0, 0, 0, 0, 0, 0, 0, 0, 0, 0, 0, 0, 0, 0, 0, 0, 0, 0, 0, 0, 0, 0, 0, 0, 0, 0, 0, 0, 0, 0, 0, 0, 0, 0, 0, 0, 0, 0, 0, 0, 0, 0, 0, 0, 0, 0, 0, 0, 0, 0, 0, 0, 0, 0, 0, 0, 0, 0, 0, 0, 0, 0, 0, 0, 0, 0, 0, 0, 0, 0, 0, 0, 0, 0, 0, 0, 0, 0, 0, 0, 0, 0, 0, 0, 0, 0, 0, 0, 0, 0, 0, 0, 0, 0, 0, 0, 0, 0, 0, 0, 0, 0, 0, 0, 0, 0, 0, 0, 0, 0, 0, 0, 0, 0, 0, 0, 0, 0, 0, 0, 0, 0, 0, 0, 0, 0, 0, 0, 0, 0, 0, 0, 0, 0, 0, 0, 0, 0, 0, 0, 0, 0, 0, 0, 0, 0, 0, 0, 0, 0, 0, 0, 0, 0, 0, 0, 0, 0, 0, 0, 0, 0, 0, 0, 0, 0, 0, 0, 0, 0, 0, 0, 0, 0, 0, 0, 0, 0, 0, 0, 0, 0, 0, 0, 0, 0, 0, 0, 0, 0, 0, 0, 0, 0, 0, 0, 0, 0, 0, 0, 0, 0, 0, 0, 0, 0, 0, 0, 0, 0, 0, 0, 0, 0, 0, 0, 0, 0, 0, 0, 0, 0, 0, 0, 0, 0, 0, 0, 0, 0, 0, 0, 0, 0, 0, 0, 0, 0, 0, 0, 0, 0, 0, 0, 0, 0, 0, 0, 0, 0, 0, 0, 0, 0, 0, 0, 0, 0, 0, 0, 0, 0, 0, 0, 0, 0, 0, 0, 0, 0, 0, 0, 0, 0, 0, 0, 0, 0, 0, 0, 0, 0, 0, 0, 0, 0, 0, 0, 0, 0, 0, 0, 0, 0, 0, 0, 0, 0, 0, 0, 0, 0, 0, 0, 0, 0, 0, 0, 0, 0, 0, 0, 0, 0, 0, 0, 0, 0, 0, 0, 0, 0, 0, 0, 0, 0, 0, 0, 0, 0, 0, 0, 0, 0, 0, 0, 0, 0, 0, 0, 0, 0, 0, 0, 0, 0, 0, 0, 0, 0, 0, 0, 0, 0, 0, 0, 0, 0, 0, 0, 0, 0, 0, 0, 0, 0, 0, 0, 0, 0, 0, 0, 0, 0, 0, 0, 0, 0, 0, 0, 0, 0, 0, 0, 0, 0, 0, 0, 0, 0, 0, 0, 0, 0, 0, 0, 0, 0, 0, 0, 0, 0, 0, 0, 0, 0, 0, 0, 0, 0, 0, 0, 0, 0, 0, 0, 0, 0, 0, 0, 0, 0, 0, 0, 0, 0, 0, 0, 0, 0, 0, 0, 0, 0, 0, 0, 0, 0, 0, 0, 0, 0, 0, 0, 0, 0, 0, 0, 0, 0, 0, 0, 0, 0, 0, 0, 0, 0, 0, 0, 0, 0, 0, 0, 0, 0, 0, 0, 0, 0, 0, 0, 0, 0, 0, 0, 0, 0, 0, 0, 0, 0, 0, 0, 0, 0, 0, 0, 0, 0, 0, 0, 0, 0, 0, 0, 0, 0, 0, 0, 0, 0, 0, 0, 0, 0, 0, 0, 0, 0, 0, 0, 0, 0, 0, 0, 0, 0, 0, 0, 0, 0, 0, 0, 0, 0, 0, 0, 0, 0, 0, 0, 0, 0, 0, 0, 0, 0, 0, 0, 0, 0, 0, 0, 0, 0, 0, 0, 0, 0, 0, 0, 0, 0, 0, 0, 0, 0, 0, 0, 0, 0, 0, 0, 0, 0, 0, 0, 0, 0, 0, 0, 0, 0, 0, 0, 0, 0, 0, 0, 0, 0, 0, 0, 0, 0, 0, 0, 0, 0, 0, 0, 0, 0, 0, 0, 0, 0, 0, 0, 0, 0, 0, 0, 0, 0, 0, 0, 0, 0, 0, 0, 0, 0, 0, 0, 0, 0, 0, 0, 0, 0, 0, 0, 0, 0, 0, 0, 0, 0, 0, 0, 0, 0, 0, 0, 0, 0, 0, 0, 0, 0, 0, 0, 0, 0, 0, 0, 0, 0, 0, 0, 0, 0, 0, 0, 0, 0, 0, 0, 0, 0, 0, 0, 0, 0, 0, 0, 0, 0, 0, 0, 0, 0, 0, 0, 0, 0, 0, 0, 0, 0, 0, 0, 0, 0, 0, 0, 0, 0, 0, 0, 0, 0, 0, 0, 0, 0, 0, 0, 0, 0, 0, 0, 0, 0, 0, 0, 0, 0, 0, 0, 0, 0, 0, 0, 0, 0, 0, 0, 0, 0, 0, 0, 0, 0, 0, 0, 0, 0, 0, 0, 0, 0, 0, 0, 0, 0, 0, 0, 0, 0, 0, 0, 0, 0, 0, 0, 0, 0, 0, 0, 0, 0, 0, 0, 0, 0, 0, 0, 0, 0, 0, 0, 0, 0, 0, 0, 0, 0, 0, 0, 0, 0, 0, 0, 0, 0, 0, 0, 0, 0, 0, 0, 0, 0, 0, 0, 0, 0, 0, 0, 0, 0, 0, 0, 0, 0, 0, 0, 0, 0, 0, 0, 0, 0, 0, 0, 0, 0, 0, 0, 0, 0, 0, 0, 0, 0, 0, 0, 0, 0, 0, 0, 0, 0, 0, 0, 0, 0, 0, 0, 0, 0, 0, 0, 0, 0, 0, 0, 0, 0, 0, 0, 0, 0, 0, 0, 0, 0, 0, 0, 0, 0, 0, 0, 0, 0, 0, 0, 0, 0, 0, 0, 0, 0, 0, 0, 0, 0, 0, 0, 0, 0, 0, 0, 0, 0, 0, 0, 0, 0, 0, 0, 0, 0, 0, 0, 0, 0, 0, 0, 0, 0, 0, 0, 0, 0, 0, 0, 0, 0, 0, 0, 0, 0, 0, 0, 0, 0, 0, 0, 0, 0, 0, 0, 0, 0, 0, 0, 0, 0, 0, 0, 0, 0, 0, 0, 0, 0, 0, 0, 0, 0, 0, 0, 0, 0, 0, 0, 0, 0, 0, 0, 0, 0, 0, 0, 0, 0, 0, 0, 0, 0, 0, 0, 0, 0, 0, 0, 0, 0, 0, 0, 0, 0, 0, 0, 0, 0, 0, 0, 0, 0, 0, 0, 0, 0, 0, 0, 0, 0, 0, 0, 0, 0, 0, 0, 0, 0, 0, 0, 0, 0, 0, 0, 0, 0, 0, 0, 0, 0, 0, 0, 0, 0, 0, 0, 0, 0, 0, 0, 0, 0, 0, 0, 0, 0, 0, 0, 0, 0, 0, 0, 0, 0, 0, 0, 0, 0, 0, 0, 0, 0, 0, 0, 0, 0, 0, 0, 0, 0, 0, 0, 0, 0, 0, 0, 0, 0, 0, 0, 0, 0, 0, 0, 0, 0, 0, 0, 0, 0, 0, 0, 0, 0, 0, 0, 0, 0, 0, 0, 0, 0, 0, 0, 0, 0, 0, 0, 0, 0, 0, 0, 0, 0, 0, 0, 0, 0, 0, 0, 0, 0, 0, 0, 0, 0, 0, 0, 0, 0, 0, 0, 0, 0, 0, 0, 0, 0, 0, 0, 0, 0, 0, 0, 0, 0, 0, 0, 0, 0, 0, 0, 0, 0, 0, 0, 0, 0, 0, 0, 0, 0, 0, 0, 0, 0, 0, 0, 0, 0, 0, 0, 0, 0, 0, 0, 0, 0, 0, 0, 0, 0, 0, 0, 0, 0, 0, 0, 0, 0, 0, 0, 0, 0, 0, 0, 0, 0, 0, 0, 0, 0, 0, 0, 0, 0, 0, 0, 0, 0, 0, 0, 0, 0, 0, 0, 0, 0, 0, 0, 0, 0, 0, 0, 0, 0, 0, 0, 0, 0, 0, 0, 0, 0, 0, 0, 0, 0, 0, 0, 0, 0, 0, 0, 0, 0, 0, 0, 0, 0, 0, 0, 0, 0, 0, 0, 0, 0, 0, 0, 0, 0, 0, 0, 0, 0, 0, 0, 0, 0, 0, 0, 0, 0, 0, 0, 0, 0, 0, 0, 0, 0, 0, 0, 0, 0, 0, 0, 0, 0, 0, 0, 0, 0, 0, 0, 0, 0, 0, 0, 0, 0, 0, 0, 0, 0, 0, 0, 0, 0, 0, 0, 0, 0, 0, 0, 0, 0, 0, 0, 0, 0, 0, 0, 0, 0, 0, 0, 0, 0, 0, 0, 0, 0, 0, 0, 0, 0, 0, 0, 0, 0, 0, 0, 0, 0, 0, 0, 0, 0, 0, 0, 0, 0, 0, 0, 0, 0, 0, 0, 0, 0, 0, 0, 0, 0, 0, 0, 0, 0, 0, 0, 0, 0, 0, 0, 0, 0, 0, 0, 0, 0, 0, 0, 0, 0, 0, 0, 0, 0, 0, 0]\n",
            "1844\n",
            "[1, 1, 1, 1, 1, 1, 1, 1, 1, 1, 1, 1, 1, 1, 1, 1, 1, 1, 1, 1, 1, 1, 1, 1, 1, 1, 1, 1, 1, 1, 1, 1, 1, 1, 1, 1, 1, 1, 1, 1, 1, 1, 1, 1, 1, 1, 1, 1, 1, 1, 1, 1, 1, 1, 1, 1, 1, 1, 1, 1, 1, 1, 1, 1, 1, 1, 1, 1, 1, 1, 1, 1, 1, 1, 1, 1, 1, 1, 1, 1, 1, 1, 1, 1, 1, 1, 1, 1, 1, 1, 1, 1, 1, 1, 1, 1, 1, 1, 1, 1, 1, 1, 1, 1, 1, 1, 1, 1, 1, 1, 1, 1, 1, 1, 1, 1, 1, 1, 1, 1, 1, 1, 1, 1, 1, 1, 1, 1, 1, 1, 1, 1, 1, 1, 1, 1, 1, 1, 1, 1, 1, 1, 1, 1, 1, 1, 1, 1, 1, 1, 1, 1, 1, 1, 1, 1, 1, 1, 1, 1, 1, 1, 1, 1, 1, 1, 1, 1, 1, 1, 1, 1, 1, 1, 1, 1, 1, 1, 1, 1, 1, 1, 1, 1, 1, 1, 1, 1, 1, 1, 1, 1, 1, 1, 1, 1, 1, 1, 1, 1, 1, 1, 1, 1, 1, 1, 1, 1, 1, 1, 1, 1, 1, 1, 1, 1, 1, 1, 1, 1, 1, 1, 1, 1, 1, 1, 1, 1, 1, 1, 1, 1, 1, 1, 1, 1, 1, 1, 1, 1, 1, 1, 1, 1, 1, 1, 1, 1, 1, 1, 1, 1, 1, 1, 1, 1, 1, 1, 1, 1, 1, 1, 1, 1, 1, 1, 1, 1, 1, 1, 1, 1, 1, 1, 1, 1, 1, 1, 1, 1, 1, 1, 1, 1, 1, 1, 1, 1, 1, 1, 1, 1, 1, 1, 1, 1, 1, 1, 1, 1, 1, 1, 1, 1, 1, 1, 1, 1, 1, 1, 1, 1, 1, 1, 1, 1, 1, 1, 1, 1, 1, 1, 1, 1, 1, 1, 1, 1, 1, 1, 1, 1, 1, 1, 1, 1, 1, 1, 1, 1, 1, 1, 1, 1, 1, 1, 1, 1, 1, 1, 1, 1, 1, 1, 1, 1, 1, 1, 1, 1, 1, 1, 1, 1, 1, 1, 1, 1, 1, 1, 1, 1, 1, 1, 1, 1, 1, 1, 1, 1, 1, 1, 1, 1, 1, 1, 1, 1, 1, 1, 1, 1, 1, 1, 1, 1, 1, 1, 1, 1, 1, 1, 1, 1, 1, 1, 1, 1, 1, 1, 1, 1, 1, 1, 1, 1, 1, 1, 1, 1, 1, 1, 1, 1, 1, 1, 1, 1, 1, 1, 1, 1, 1, 1, 1, 1, 1, 1, 1, 1, 1, 1, 1, 1, 1, 1, 1, 1, 1, 1, 1, 1, 1, 1, 1, 1, 1, 1, 1, 1, 1, 1, 1, 1, 1, 1, 1, 1, 1, 1, 1, 1, 1, 1, 1, 1, 1, 1, 1, 1, 1, 1, 1, 1, 1, 1, 1, 1, 1, 1, 1, 1, 1, 1, 1, 1, 1, 1, 1, 1, 1, 1, 1, 1, 1, 1, 1, 1, 1, 1, 1, 1, 1, 1, 1, 1, 1, 1, 1, 1, 1, 1, 1, 1, 1, 1, 1, 1, 1, 1, 1, 1, 1, 1, 1, 1, 1, 1, 1, 1, 1, 1, 1, 1, 1, 1, 1, 1, 1, 1, 1, 1, 1, 1, 1, 1, 1, 1, 1, 1, 1, 1, 1, 1, 1, 1, 1, 1, 1, 1, 1, 1, 1, 1, 1, 1, 1, 1, 1, 1, 1, 1, 1, 1, 1, 1, 1, 1, 1, 1, 1, 1, 1, 1, 1, 1, 1, 1, 1, 1, 1, 1, 1, 1, 1, 1, 1, 1, 1, 1, 1, 1, 1, 1, 1, 1, 1, 1, 1, 1, 1, 1, 1, 1, 1, 1, 1, 1, 1, 1, 1, 1, 1, 1, 1, 1, 1, 1, 1, 1, 1, 1, 1, 1, 1, 1, 1, 1, 1, 1, 1, 1, 1, 1, 1, 1, 1, 1, 1, 1, 1, 1, 1, 1, 1, 1, 1, 1, 1, 1, 1, 1, 1, 1, 1, 1, 1, 1, 1, 1, 1, 1, 1, 1, 1, 1, 1, 1, 1, 1, 1, 1, 1, 1, 1, 1, 1, 1, 1, 1, 1, 1, 1, 1, 1, 1, 1, 1, 1, 1, 1, 1, 1, 1, 1, 1, 1, 1, 1, 1, 1, 1, 1, 1, 1, 1, 1, 1, 1, 1, 1, 1, 1, 1, 1, 1, 1, 1, 1, 1, 1, 1, 1, 1, 1, 1, 1, 1, 1, 1, 1, 1, 1, 1, 1, 1, 1, 1, 1, 1, 1, 1, 1, 1, 1, 1, 1, 1, 1, 1, 1, 1, 1, 1, 1, 1, 1, 1, 1, 1, 1, 1, 1, 1, 1, 1, 1, 1, 1, 1, 1, 1, 1, 1, 1, 1, 1, 1, 1, 1, 1, 1, 1, 1, 1, 1, 1, 1, 1, 1, 1, 1, 1, 1, 1, 1, 1, 1, 1, 1, 1, 1, 1, 1, 1, 1, 1, 1, 1, 1, 1, 1, 1, 1, 1, 1, 1, 1, 1, 1, 1, 1, 1, 1, 1, 1, 1, 1, 1, 1, 1, 1, 1, 1, 1, 1, 1, 1, 1, 1, 1, 1, 1, 1, 1, 1, 1, 1, 1, 1, 1, 1, 1, 1, 1, 1, 1, 1, 1, 1, 1, 1, 1, 1, 1, 1, 1, 1, 1, 1, 1, 1, 1, 1, 1, 1, 1, 1, 1, 1, 1, 1, 1, 1, 1, 1, 1, 1, 1, 1, 1, 1, 1, 1, 1, 1, 1, 1, 1, 1, 1, 1, 1, 1, 1, 1, 1, 1, 1, 1, 1, 1, 1, 1, 1, 1, 1, 1, 1, 1, 1, 1, 1, 1, 1, 1, 1, 1, 1, 1, 1, 1, 1, 1, 1, 1, 1, 1, 1, 1, 1, 1, 1, 1, 1, 1, 1, 1, 1, 1, 1, 1, 1, 1, 1, 1, 1, 1, 1, 1, 1, 1, 1, 1, 1, 1, 1, 1, 1, 1, 1, 1, 1, 1, 1, 1, 1, 1, 1, 1, 1, 1, 1, 1, 1, 1, 1, 1, 1, 1, 1, 1, 1, 1, 1, 1, 1, 1, 1, 1, 1, 1, 1, 1, 1, 1, 1, 1, 1, 1, 1, 1, 1, 1, 1, 1, 1, 1, 1, 1, 1, 1, 1, 1, 1, 1, 1, 1, 1, 1, 1, 1, 1, 1, 1, 1, 1, 1, 1, 1, 1, 1, 1, 1, 1, 1, 1, 1, 1, 1, 1, 1, 1, 1, 1, 1, 1, 1, 1, 1, 1, 1, 1, 1, 1, 1, 1, 1, 1, 1, 1, 1, 1, 1, 1, 1, 1, 1, 1, 1, 1, 1, 1, 1, 1, 1, 1, 1, 1, 1, 1, 1, 1, 1, 1, 1, 1, 1, 1, 1, 1, 1, 1, 1, 1, 1, 1, 1, 1, 1, 1, 1, 1, 1, 1, 1, 1, 1, 1, 1, 1, 1, 1, 1, 1, 1, 1, 1, 1, 1, 1, 1, 1, 1, 1, 1, 1, 1, 1, 1, 1, 1, 1, 1, 1, 1, 1, 1, 1, 1, 1, 1, 1, 1, 1, 1, 1, 1, 1, 1, 1, 1, 1, 1, 1, 1, 1, 1, 1, 1, 1, 1, 1, 1, 1, 1, 1, 1, 1, 1, 1, 1, 1, 1, 1, 1, 1, 1, 1, 1, 1, 1, 1, 1, 1, 1, 1, 1, 1, 1, 1, 1, 1, 1, 1, 1, 1, 1, 1, 1, 1, 1, 1, 1, 1, 1, 1, 1, 1, 1, 1, 1, 1, 1, 1, 1, 1, 1, 1, 1, 1, 1, 1, 1, 1, 1, 1, 1, 1, 1, 1, 1, 1, 1, 1, 1, 1, 1]\n",
            "1268\n"
          ]
        }
      ],
      "source": [
        "import numpy as np\n",
        "\n",
        "\n",
        "pose_path_climb = '/content/drive/MyDrive/Climbing wall/climb_wall_data_new.npy'\n",
        "pose_path_no_climb = '/content/drive/MyDrive/Climbing wall/no_climb_wall_data_new.npy'\n",
        "# label_path = 'label.npy'\n",
        "\n",
        "pose_climb = np.load(pose_path_climb)\n",
        "pose_no_climb = np.load(pose_path_no_climb)\n",
        "# a = np.random.rand(50,40,17,2)\n",
        "# pose_no_climb= np.concatenate((pose_no_climb,a),axis=0)\n",
        "pose_climb_label = []\n",
        "\n",
        "for i in pose_climb:\n",
        "  pose_climb_label.append(0)\n",
        "print(pose_climb_label)\n",
        "print(len(pose_climb_label))\n",
        "pose_climb_label = np.array(pose_climb_label)\n",
        "\n",
        "pose_no_climb_label = []\n",
        "for i in pose_no_climb:\n",
        "  pose_no_climb_label.append(1)\n",
        "print(pose_no_climb_label)\n",
        "print(len(pose_no_climb_label))\n",
        "pose_no_climb_label = np.array(pose_no_climb_label)\n",
        "\n",
        "pose_data = np.concatenate((pose_climb, pose_no_climb))\n",
        "pose_label = np.concatenate((pose_climb_label, pose_no_climb_label))"
      ]
    },
    {
      "cell_type": "code",
      "source": [
        "print(pose_data.shape)\n",
        "# print(pose_data[0])\n",
        "print(pose_label.shape)"
      ],
      "metadata": {
        "id": "S3qmC9CTV1rV"
      },
      "execution_count": null,
      "outputs": []
    },
    {
      "cell_type": "code",
      "source": [
        "# pose_label = []\n",
        "# count = 0\n",
        "# for i in pose_data:\n",
        "#   pose_label.append(0)\n",
        "# print(pose_label)\n",
        "# print(len(pose_label))\n",
        "# pose_label = np.array(pose_label)"
      ],
      "metadata": {
        "id": "pbD9AGt5q0uf"
      },
      "execution_count": null,
      "outputs": []
    },
    {
      "cell_type": "code",
      "source": [
        "# pose_data = np.concatenate((no_sleep_data, sleep_data))\n",
        "# label_data = np.concatenate((no_sleep_label, sleep_label))"
      ],
      "metadata": {
        "id": "8KUXH-PL2Q69"
      },
      "execution_count": null,
      "outputs": []
    },
    {
      "cell_type": "code",
      "source": [
        "from sklearn.model_selection import train_test_split\n",
        "X_train, X_test, y_train, y_test = train_test_split(pose_data, pose_label, test_size=0.2, random_state=696969)"
      ],
      "metadata": {
        "id": "WAI_tmHGrL7i"
      },
      "execution_count": null,
      "outputs": []
    },
    {
      "cell_type": "code",
      "source": [
        "print(y_train[0:20])\n",
        "print(y_test[0:20])"
      ],
      "metadata": {
        "id": "nQHVRTVpAXKc"
      },
      "execution_count": null,
      "outputs": []
    },
    {
      "cell_type": "code",
      "source": [
        "print(type(X_train))\n",
        "print(type(X_test))\n",
        "print(type(y_train))\n",
        "print(type(y_test))"
      ],
      "metadata": {
        "id": "aCLMQiUCsn0w"
      },
      "execution_count": null,
      "outputs": []
    },
    {
      "cell_type": "code",
      "source": [
        "import numpy as np\n",
        "import random\n",
        "import pandas as pd\n",
        "import os\n",
        "import matplotlib.pyplot as plt\n",
        "%cd /content/drive/MyDrive/Climbing wall\n",
        "from utils import *\n",
        "from tqdm import tqdm\n",
        "import torch\n",
        "from torch.utils.tensorboard import SummaryWriter\n",
        "# writer = SummaryWriter(log_dir = '/content')"
      ],
      "metadata": {
        "colab": {
          "base_uri": "https://localhost:8080/"
        },
        "id": "k_BIf9-3uIMZ",
        "outputId": "a8ca3e5a-1491-4599-e956-6e72c3ecdfc7"
      },
      "execution_count": null,
      "outputs": [
        {
          "output_type": "stream",
          "name": "stdout",
          "text": [
            "/content/drive/MyDrive/Climbing wall\n"
          ]
        }
      ]
    },
    {
      "cell_type": "markdown",
      "source": [
        "Model"
      ],
      "metadata": {
        "id": "ZEIM3OqXuhn_"
      }
    },
    {
      "cell_type": "code",
      "source": [
        "random.seed(123)\n",
        "\n",
        "class Config():\n",
        "    def __init__(self):\n",
        "        self.frame_l = 40 # the length of frames ################################################## Original: 32\n",
        "        self.joint_n = 17 # the number of joints ################################################## Original: 15\n",
        "        self.joint_d = 2 # the dimension of joints\n",
        "        self.cls_num = 2 # the number of class   ################################################## Original: 21\n",
        "        self.feat_d = 136                        ################################################## Original: 105\n",
        "        self.filters = 16\n",
        "        # self.data_dir = '/mnt/nasbi/homes/fan/projects/action/skeleton/data/JHMDB/'\n",
        "C = Config()"
      ],
      "metadata": {
        "id": "BGgiDWsbuIom"
      },
      "execution_count": null,
      "outputs": []
    },
    {
      "cell_type": "code",
      "source": [
        "def data_generator(X, y, C):\n",
        "    X_0 = []\n",
        "    X_1 = []\n",
        "    Y = []\n",
        "    for i in tqdm(range(len(X))):\n",
        "        p = np.copy(X[i]) # (40,17,2)\n",
        "        p = zoom(p,target_l=C.frame_l,joints_num=C.joint_n,joints_dim=C.joint_d)\n",
        "\n",
        "        label = np.zeros(C.cls_num) # [0.0]\n",
        "\n",
        "        label[y[i]] = 1\n",
        "\n",
        "        M = get_CG(p,C)\n",
        "\n",
        "        X_0.append(M)\n",
        "        X_1.append(p)\n",
        "        Y.append(label)\n",
        "\n",
        "    X_0 = np.stack(X_0)\n",
        "    X_1 = np.stack(X_1)\n",
        "    Y = np.stack(Y)\n",
        "    return X_0,X_1,Y"
      ],
      "metadata": {
        "id": "GgdMssk9ukuh"
      },
      "execution_count": null,
      "outputs": []
    },
    {
      "cell_type": "code",
      "source": [
        "\n",
        "X_0_train, X_1_train, Y_train = data_generator(X_train, y_train, C)\n"
      ],
      "metadata": {
        "colab": {
          "base_uri": "https://localhost:8080/"
        },
        "id": "ANewjoz8icD2",
        "outputId": "acf56259-00dc-473c-feb6-4edf09df3bb8"
      },
      "execution_count": null,
      "outputs": [
        {
          "output_type": "stream",
          "name": "stderr",
          "text": [
            "100%|██████████| 2489/2489 [00:14<00:00, 172.96it/s]\n"
          ]
        }
      ]
    },
    {
      "cell_type": "code",
      "source": [
        "X_0_test, X_1_test, Y_test = data_generator(X_test, y_test, C)"
      ],
      "metadata": {
        "colab": {
          "base_uri": "https://localhost:8080/"
        },
        "id": "YiNSmix_ib_9",
        "outputId": "d7205b41-e817-43e1-df07-cfa040ab2288"
      },
      "execution_count": null,
      "outputs": [
        {
          "output_type": "stream",
          "name": "stderr",
          "text": [
            "100%|██████████| 623/623 [00:04<00:00, 155.45it/s]\n"
          ]
        }
      ]
    },
    {
      "cell_type": "code",
      "source": [
        "def poses_diff(x):\n",
        "    _, H, W, _ = x.shape\n",
        "\n",
        "    # x.shape (batch,channel,joint_num,joint_dim)\n",
        "    x = x[:, 1:, ...] - x[:, :-1, ...]\n",
        "\n",
        "    # x.shape (batch,joint_dim,channel,joint_num,)\n",
        "    x = x.permute(0, 3, 1, 2)\n",
        "    x = F.interpolate(x, size=(H, W),\n",
        "                      align_corners=False, mode='bilinear')\n",
        "    x = x.permute(0, 2, 3, 1)\n",
        "    # x.shape (batch,channel,joint_num,joint_dim)\n",
        "    return x\n",
        "\n",
        "\n",
        "def poses_motion(P):\n",
        "    # different from the original version\n",
        "    # TODO: check the funtion, make sure it's right\n",
        "    P_diff_slow = poses_diff(P)\n",
        "    P_diff_slow = torch.flatten(P_diff_slow, start_dim=2)\n",
        "    P_fast = P[:, ::2, :, :]\n",
        "    P_diff_fast = poses_diff(P_fast)\n",
        "    P_diff_fast = torch.flatten(P_diff_fast, start_dim=2)\n",
        "    # return (B,target_l,joint_d * joint_n) , (B,target_l/2,joint_d * joint_n)\n",
        "    return P_diff_slow, P_diff_fast\n"
      ],
      "metadata": {
        "id": "RhD_N3Crib8g"
      },
      "execution_count": null,
      "outputs": []
    },
    {
      "cell_type": "code",
      "source": [
        "import torch.nn.functional as F\n",
        "import torch.nn as nn\n",
        "import math\n",
        "\n",
        "\n",
        "class c1D(nn.Module):\n",
        "    # input (B,C,D) //batch,channels,dims\n",
        "    # output = (B,C,filters)\n",
        "    def __init__(self, input_channels, input_dims, filters, kernel):\n",
        "        super(c1D, self).__init__()\n",
        "        self.cut_last_element = (kernel % 2 == 0)\n",
        "        self.padding = math.ceil((kernel - 1)/2)\n",
        "        self.conv1 = nn.Conv1d(input_dims, filters,\n",
        "                               kernel, bias=False, padding=self.padding).float()\n",
        "        self.bn = nn.BatchNorm1d(num_features=input_channels)\n",
        "\n",
        "    def forward(self, x):\n",
        "        # x (B,D,C)\n",
        "        x = x.permute(0, 2, 1)\n",
        "        # output (B,filters,C)\n",
        "        if(self.cut_last_element):\n",
        "            output = self.conv1(x)[:, :, :-1]\n",
        "        else:\n",
        "            output = self.conv1(x)\n",
        "        # output = (B,C,filters)\n",
        "        output = output.permute(0, 2, 1)\n",
        "        output = self.bn(output)\n",
        "        output = F.leaky_relu(output, 0.2, True)\n",
        "        return output\n",
        "\n",
        "\n",
        "class block(nn.Module):\n",
        "    def __init__(self, input_channels, input_dims, filters, kernel):\n",
        "        super(block, self).__init__()\n",
        "        self.c1D1 = c1D(input_channels, input_dims, filters, kernel)\n",
        "        self.c1D2 = c1D(input_channels, filters, filters, kernel)\n",
        "\n",
        "    def forward(self, x):\n",
        "        output = self.c1D1(x)\n",
        "        output = self.c1D2(output)\n",
        "        return output\n",
        "\n",
        "\n",
        "class d1D(nn.Module):\n",
        "    def __init__(self, input_dims, filters):\n",
        "        super(d1D, self).__init__()\n",
        "        self.linear = nn.Linear(input_dims, filters)\n",
        "        self.bn = nn.BatchNorm1d(num_features=filters)\n",
        "\n",
        "    def forward(self, x):\n",
        "        output = self.linear(x)\n",
        "        output = self.bn(output)\n",
        "        output = F.leaky_relu(output, 0.2)\n",
        "        return output\n",
        "\n",
        "\n",
        "class spatialDropout1D(nn.Module):\n",
        "    def __init__(self, p):\n",
        "        super(spatialDropout1D, self).__init__()\n",
        "        self.dropout = nn.Dropout1d(p)\n",
        "\n",
        "    def forward(self, x):\n",
        "        x = x.permute(0, 2, 1) # B, D, C\n",
        "        x = self.dropout(x)\n",
        "        x = x.permute(0, 2, 1)\n",
        "        return x\n",
        "\n",
        "\n",
        "class DDNet_Original(nn.Module):\n",
        "    def __init__(self, frame_l, joint_n, joint_d, feat_d, filters, class_num):\n",
        "        super(DDNet_Original, self).__init__()\n",
        "\n",
        "        # JCD part\n",
        "        self.jcd_conv1 = nn.Sequential(\n",
        "            c1D(frame_l, feat_d, 2 * filters, 1),\n",
        "            spatialDropout1D(0.1)\n",
        "        )\n",
        "        self.jcd_conv2 = nn.Sequential(\n",
        "            c1D(frame_l, 2 * filters, filters, 3),\n",
        "            spatialDropout1D(0.1)\n",
        "        )\n",
        "        self.jcd_conv3 = c1D(frame_l, filters, filters, 1)\n",
        "        self.jcd_pool = nn.Sequential(\n",
        "            nn.MaxPool1d(kernel_size=2),\n",
        "            spatialDropout1D(0.1)\n",
        "        )\n",
        "\n",
        "        # diff_slow part\n",
        "        self.slow_conv1 = nn.Sequential(\n",
        "            c1D(frame_l, joint_n * joint_d, 2 * filters, 1),\n",
        "            spatialDropout1D(0.1)\n",
        "        )\n",
        "        self.slow_conv2 = nn.Sequential(\n",
        "            c1D(frame_l, 2 * filters, filters, 3),\n",
        "            spatialDropout1D(0.1)\n",
        "        )\n",
        "        self.slow_conv3 = c1D(frame_l, filters, filters, 1)\n",
        "        self.slow_pool = nn.Sequential(\n",
        "            nn.MaxPool1d(kernel_size=2),\n",
        "            spatialDropout1D(0.1)\n",
        "        )\n",
        "\n",
        "        # fast_part\n",
        "        self.fast_conv1 = nn.Sequential(\n",
        "            c1D(frame_l//2, joint_n * joint_d, 2 * filters, 1), spatialDropout1D(0.1))\n",
        "        self.fast_conv2 = nn.Sequential(\n",
        "            c1D(frame_l//2, 2 * filters, filters, 3), spatialDropout1D(0.1))\n",
        "        self.fast_conv3 = nn.Sequential(\n",
        "            c1D(frame_l//2, filters, filters, 1), spatialDropout1D(0.1))\n",
        "\n",
        "        # after cat\n",
        "        self.block1 = block(frame_l//2, 3 * filters, 2 * filters, 3)\n",
        "        self.block_pool1 = nn.Sequential(\n",
        "            nn.MaxPool1d(kernel_size=2), spatialDropout1D(0.1))\n",
        "\n",
        "        self.block2 = block(frame_l//4, 2 * filters, 4 * filters, 3)\n",
        "        self.block_pool2 = nn.Sequential(nn.MaxPool1d(\n",
        "            kernel_size=2), spatialDropout1D(0.1))\n",
        "\n",
        "        self.block3 = nn.Sequential(\n",
        "            block(frame_l//8, 4 * filters, 8 * filters, 3), spatialDropout1D(0.1))\n",
        "\n",
        "        self.linear1 = nn.Sequential(\n",
        "            d1D(8 * filters, 128),\n",
        "            nn.Dropout(0.5)\n",
        "        )\n",
        "        self.linear2 = nn.Sequential(\n",
        "            d1D(128, 128),\n",
        "            nn.Dropout(0.5)\n",
        "        )\n",
        "\n",
        "        self.linear3 = nn.Linear(128, class_num)\n",
        "\n",
        "    def forward(self, M, P=None):\n",
        "        x = self.jcd_conv1(M)\n",
        "        x = self.jcd_conv2(x)\n",
        "        x = self.jcd_conv3(x)\n",
        "        x = x.permute(0, 2, 1)\n",
        "        # pool will downsample the D dim of (B,C,D)\n",
        "        # but we want to downsample the C channels\n",
        "        # 1x1 conv may be a better choice\n",
        "        x = self.jcd_pool(x)\n",
        "        x = x.permute(0, 2, 1)\n",
        "\n",
        "        diff_slow, diff_fast = poses_motion(P)\n",
        "        x_d_slow = self.slow_conv1(diff_slow)\n",
        "        x_d_slow = self.slow_conv2(x_d_slow)\n",
        "        x_d_slow = self.slow_conv3(x_d_slow)\n",
        "        x_d_slow = x_d_slow.permute(0, 2, 1)\n",
        "        x_d_slow = self.slow_pool(x_d_slow)\n",
        "        x_d_slow = x_d_slow.permute(0, 2, 1)\n",
        "\n",
        "        x_d_fast = self.fast_conv1(diff_fast)\n",
        "        x_d_fast = self.fast_conv2(x_d_fast)\n",
        "        x_d_fast = self.fast_conv3(x_d_fast)\n",
        "        # x,x_d_fast,x_d_slow shape: (B,framel//2,filters)\n",
        "\n",
        "        x = torch.cat((x, x_d_slow, x_d_fast), dim=2)\n",
        "        x = self.block1(x)\n",
        "        x = x.permute(0, 2, 1)\n",
        "        x = self.block_pool1(x)\n",
        "        x = x.permute(0, 2, 1)\n",
        "\n",
        "        x = self.block2(x)\n",
        "        x = x.permute(0, 2, 1)\n",
        "        x = self.block_pool2(x)\n",
        "        x = x.permute(0, 2, 1)\n",
        "\n",
        "        x = self.block3(x)\n",
        "        # max pool over (B,C,D) C channels\n",
        "        x = torch.max(x, dim=1).values\n",
        "\n",
        "        x = self.linear1(x)\n",
        "        x = self.linear2(x)\n",
        "        x = torch.nn.functional.softmax(self.linear3(x), dim=1)\n",
        "        return x.float()"
      ],
      "metadata": {
        "id": "24xOUQ1Dib4R"
      },
      "execution_count": null,
      "outputs": []
    },
    {
      "cell_type": "code",
      "source": [
        "device = 'cuda'"
      ],
      "metadata": {
        "id": "KhYW7cL8ibzF"
      },
      "execution_count": null,
      "outputs": []
    },
    {
      "cell_type": "code",
      "source": [
        "model = DDNet_Original(C.frame_l, C.joint_n, C.joint_d, C.feat_d, C.filters, C.cls_num).to(device)\n"
      ],
      "metadata": {
        "id": "plwGjLzBi6qX"
      },
      "execution_count": null,
      "outputs": []
    },
    {
      "cell_type": "code",
      "source": [
        "class Data(torch.utils.data.Dataset):\n",
        "    def __init__(self, X_0, X_1, Y):\n",
        "        self.X_0 = X_0\n",
        "        self.X_1 = X_1\n",
        "        self.Y = Y\n",
        "\n",
        "    def __len__(self):\n",
        "        return len(self.Y)\n",
        "\n",
        "    def __getitem__(self, idx):\n",
        "        return [self.X_0[idx].astype(float), self.X_1[idx].astype(float)], self.Y[idx]\n",
        "\n",
        "train_data = Data(X_0_train, X_1_train, Y_train)\n",
        "train_loader = torch.utils.data.DataLoader(train_data, batch_size = 32, shuffle = True)\n",
        "\n",
        "test_data = Data(X_0_test, X_1_test, Y_test)\n",
        "test_loader = torch.utils.data.DataLoader(test_data, batch_size = 32, shuffle = True)\n"
      ],
      "metadata": {
        "id": "0zsqywEgjuZp"
      },
      "execution_count": null,
      "outputs": []
    },
    {
      "cell_type": "code",
      "source": [
        "train_loader"
      ],
      "metadata": {
        "id": "8xxZ64EQ-WmU"
      },
      "execution_count": null,
      "outputs": []
    },
    {
      "cell_type": "markdown",
      "source": [
        "##train\n"
      ],
      "metadata": {
        "id": "SZGQfSgDi9sY"
      }
    },
    {
      "cell_type": "code",
      "source": [
        "loss_fn = nn.CrossEntropyLoss()\n",
        "optimizer = torch.optim.Adam(model.parameters(), lr=1e-3)\n",
        "scheduler = torch.optim.lr_scheduler.ReduceLROnPlateau(optimizer, mode='min', factor=0.5, patience=5, cooldown=5, min_lr=1e-5, verbose=True)"
      ],
      "metadata": {
        "id": "znlbLxBMi6nw"
      },
      "execution_count": null,
      "outputs": []
    },
    {
      "cell_type": "code",
      "source": [
        "save_path = '/content/drive/MyDrive/Climbing wall/weights'\n",
        "def save_checkpoint(state, is_best, epoch):\n",
        "    torch.save(state, f'{save_path}/{epoch}_withfake_last.pth')\n",
        "    if is_best:\n",
        "        print('Found best')\n",
        "        with torch.inference_mode():\n",
        "            torch.save(state, f'{save_path}/{epoch}_withfake_best.pth')"
      ],
      "metadata": {
        "id": "1SJABJXYjIZ-"
      },
      "execution_count": null,
      "outputs": []
    },
    {
      "cell_type": "code",
      "source": [
        "# !pip install wandb"
      ],
      "metadata": {
        "colab": {
          "base_uri": "https://localhost:8080/"
        },
        "id": "M9pMEtdKo0Oz",
        "outputId": "f251ea77-c4a7-4ef2-944d-969e39166d04"
      },
      "execution_count": null,
      "outputs": [
        {
          "output_type": "stream",
          "name": "stdout",
          "text": [
            "Collecting wandb\n",
            "  Downloading wandb-0.16.2-py3-none-any.whl (2.2 MB)\n",
            "\u001b[2K     \u001b[90m━━━━━━━━━━━━━━━━━━━━━━━━━━━━━━━━━━━━━━━━\u001b[0m \u001b[32m2.2/2.2 MB\u001b[0m \u001b[31m39.2 MB/s\u001b[0m eta \u001b[36m0:00:00\u001b[0m\n",
            "\u001b[?25hRequirement already satisfied: Click!=8.0.0,>=7.1 in /usr/local/lib/python3.10/dist-packages (from wandb) (8.1.7)\n",
            "Collecting GitPython!=3.1.29,>=1.0.0 (from wandb)\n",
            "  Downloading GitPython-3.1.41-py3-none-any.whl (196 kB)\n",
            "\u001b[2K     \u001b[90m━━━━━━━━━━━━━━━━━━━━━━━━━━━━━━━━━━━━━━━━\u001b[0m \u001b[32m196.4/196.4 kB\u001b[0m \u001b[31m27.4 MB/s\u001b[0m eta \u001b[36m0:00:00\u001b[0m\n",
            "\u001b[?25hRequirement already satisfied: requests<3,>=2.0.0 in /usr/local/lib/python3.10/dist-packages (from wandb) (2.31.0)\n",
            "Requirement already satisfied: psutil>=5.0.0 in /usr/local/lib/python3.10/dist-packages (from wandb) (5.9.5)\n",
            "Collecting sentry-sdk>=1.0.0 (from wandb)\n",
            "  Downloading sentry_sdk-1.40.0-py2.py3-none-any.whl (257 kB)\n",
            "\u001b[2K     \u001b[90m━━━━━━━━━━━━━━━━━━━━━━━━━━━━━━━━━━━━━━━━\u001b[0m \u001b[32m257.5/257.5 kB\u001b[0m \u001b[31m37.0 MB/s\u001b[0m eta \u001b[36m0:00:00\u001b[0m\n",
            "\u001b[?25hCollecting docker-pycreds>=0.4.0 (from wandb)\n",
            "  Downloading docker_pycreds-0.4.0-py2.py3-none-any.whl (9.0 kB)\n",
            "Requirement already satisfied: PyYAML in /usr/local/lib/python3.10/dist-packages (from wandb) (6.0.1)\n",
            "Collecting setproctitle (from wandb)\n",
            "  Downloading setproctitle-1.3.3-cp310-cp310-manylinux_2_5_x86_64.manylinux1_x86_64.manylinux_2_17_x86_64.manylinux2014_x86_64.whl (30 kB)\n",
            "Requirement already satisfied: setuptools in /usr/local/lib/python3.10/dist-packages (from wandb) (67.7.2)\n",
            "Requirement already satisfied: appdirs>=1.4.3 in /usr/local/lib/python3.10/dist-packages (from wandb) (1.4.4)\n",
            "Requirement already satisfied: protobuf!=4.21.0,<5,>=3.19.0 in /usr/local/lib/python3.10/dist-packages (from wandb) (3.20.3)\n",
            "Requirement already satisfied: six>=1.4.0 in /usr/local/lib/python3.10/dist-packages (from docker-pycreds>=0.4.0->wandb) (1.16.0)\n",
            "Collecting gitdb<5,>=4.0.1 (from GitPython!=3.1.29,>=1.0.0->wandb)\n",
            "  Downloading gitdb-4.0.11-py3-none-any.whl (62 kB)\n",
            "\u001b[2K     \u001b[90m━━━━━━━━━━━━━━━━━━━━━━━━━━━━━━━━━━━━━━━━\u001b[0m \u001b[32m62.7/62.7 kB\u001b[0m \u001b[31m10.9 MB/s\u001b[0m eta \u001b[36m0:00:00\u001b[0m\n",
            "\u001b[?25hRequirement already satisfied: charset-normalizer<4,>=2 in /usr/local/lib/python3.10/dist-packages (from requests<3,>=2.0.0->wandb) (3.3.2)\n",
            "Requirement already satisfied: idna<4,>=2.5 in /usr/local/lib/python3.10/dist-packages (from requests<3,>=2.0.0->wandb) (3.6)\n",
            "Requirement already satisfied: urllib3<3,>=1.21.1 in /usr/local/lib/python3.10/dist-packages (from requests<3,>=2.0.0->wandb) (2.0.7)\n",
            "Requirement already satisfied: certifi>=2017.4.17 in /usr/local/lib/python3.10/dist-packages (from requests<3,>=2.0.0->wandb) (2023.11.17)\n",
            "Collecting smmap<6,>=3.0.1 (from gitdb<5,>=4.0.1->GitPython!=3.1.29,>=1.0.0->wandb)\n",
            "  Downloading smmap-5.0.1-py3-none-any.whl (24 kB)\n",
            "Installing collected packages: smmap, setproctitle, sentry-sdk, docker-pycreds, gitdb, GitPython, wandb\n",
            "Successfully installed GitPython-3.1.41 docker-pycreds-0.4.0 gitdb-4.0.11 sentry-sdk-1.40.0 setproctitle-1.3.3 smmap-5.0.1 wandb-0.16.2\n"
          ]
        }
      ]
    },
    {
      "cell_type": "code",
      "source": [
        "# !wandb login"
      ],
      "metadata": {
        "colab": {
          "base_uri": "https://localhost:8080/"
        },
        "id": "8HGSY6-wo37H",
        "outputId": "eb931055-5958-4df9-f5fb-f4d8d958444d"
      },
      "execution_count": null,
      "outputs": [
        {
          "output_type": "stream",
          "name": "stdout",
          "text": [
            "\u001b[34m\u001b[1mwandb\u001b[0m: Logging into wandb.ai. (Learn how to deploy a W&B server locally: https://wandb.me/wandb-server)\n",
            "\u001b[34m\u001b[1mwandb\u001b[0m: You can find your API key in your browser here: https://wandb.ai/authorize\n",
            "\u001b[34m\u001b[1mwandb\u001b[0m: Paste an API key from your profile and hit enter, or press ctrl+c to quit: \n",
            "Aborted!\n"
          ]
        }
      ]
    },
    {
      "cell_type": "code",
      "source": [
        "import wandb\n",
        "import random\n",
        "\n",
        "# start a new wandb run to track this script\n",
        "wandb.init(\n",
        "    # set the wandb project where this run will be logged\n",
        "    project=\"my-awesome-project\",\n",
        "\n",
        "    # track hyperparameters and run metadata\n",
        "    config={\n",
        "    \"learning_rate\": 0.02,\n",
        "    \"architecture\": \"CNN\",\n",
        "    \"dataset\": \"CIFAR-100\",\n",
        "    \"epochs\": 10,\n",
        "    }\n",
        ")"
      ],
      "metadata": {
        "colab": {
          "base_uri": "https://localhost:8080/",
          "height": 142
        },
        "id": "1V_H6fD5pC24",
        "outputId": "86e2cebe-d037-4f6b-81a5-f28b0d5caad3"
      },
      "execution_count": null,
      "outputs": [
        {
          "output_type": "stream",
          "name": "stderr",
          "text": [
            "\u001b[34m\u001b[1mwandb\u001b[0m: Currently logged in as: \u001b[33mphungvanthai2002\u001b[0m. Use \u001b[1m`wandb login --relogin`\u001b[0m to force relogin\n"
          ]
        },
        {
          "output_type": "display_data",
          "data": {
            "text/plain": [
              "<IPython.core.display.HTML object>"
            ],
            "text/html": [
              "Tracking run with wandb version 0.16.2"
            ]
          },
          "metadata": {}
        },
        {
          "output_type": "display_data",
          "data": {
            "text/plain": [
              "<IPython.core.display.HTML object>"
            ],
            "text/html": [
              "Run data is saved locally in <code>/content/drive/MyDrive/Climbing wall/wandb/run-20240131_083044-5wd9h874</code>"
            ]
          },
          "metadata": {}
        },
        {
          "output_type": "display_data",
          "data": {
            "text/plain": [
              "<IPython.core.display.HTML object>"
            ],
            "text/html": [
              "Syncing run <strong><a href='https://wandb.ai/phungvanthai2002/my-awesome-project/runs/5wd9h874' target=\"_blank\">leafy-sea-1</a></strong> to <a href='https://wandb.ai/phungvanthai2002/my-awesome-project' target=\"_blank\">Weights & Biases</a> (<a href='https://wandb.me/run' target=\"_blank\">docs</a>)<br/>"
            ]
          },
          "metadata": {}
        },
        {
          "output_type": "display_data",
          "data": {
            "text/plain": [
              "<IPython.core.display.HTML object>"
            ],
            "text/html": [
              " View project at <a href='https://wandb.ai/phungvanthai2002/my-awesome-project' target=\"_blank\">https://wandb.ai/phungvanthai2002/my-awesome-project</a>"
            ]
          },
          "metadata": {}
        },
        {
          "output_type": "display_data",
          "data": {
            "text/plain": [
              "<IPython.core.display.HTML object>"
            ],
            "text/html": [
              " View run at <a href='https://wandb.ai/phungvanthai2002/my-awesome-project/runs/5wd9h874' target=\"_blank\">https://wandb.ai/phungvanthai2002/my-awesome-project/runs/5wd9h874</a>"
            ]
          },
          "metadata": {}
        },
        {
          "output_type": "execute_result",
          "data": {
            "text/html": [
              "<button onClick=\"this.nextSibling.style.display='block';this.style.display='none';\">Display W&B run</button><iframe src='https://wandb.ai/phungvanthai2002/my-awesome-project/runs/5wd9h874?jupyter=true' style='border:none;width:100%;height:420px;display:none;'></iframe>"
            ],
            "text/plain": [
              "<wandb.sdk.wandb_run.Run at 0x7bc44c7b5240>"
            ]
          },
          "metadata": {},
          "execution_count": 19
        }
      ]
    },
    {
      "cell_type": "code",
      "source": [
        "E=200\n",
        "best_acc = 0\n",
        "for e in range(E):\n",
        "    total_loss = 0\n",
        "    train_acc = 0\n",
        "    model.train()\n",
        "    for [x0, x1], y in tqdm(train_loader):\n",
        "        x0 = x0.to(device).float()\n",
        "        x1 = x1.to(device).float()\n",
        "        y = y.to(device)\n",
        "        # print('')\n",
        "        # print('x0=',x0.shape)\n",
        "        # print('x1=',x1.shape)\n",
        "        output = model(x0, x1)\n",
        "        # print('output=',output.shape)\n",
        "        loss_tr = loss_fn(output,y)\n",
        "        # writer.add_scalar(\"Loss/train\", loss_tr, e)\n",
        "        # break\n",
        "\n",
        "        optimizer.zero_grad()\n",
        "        loss_tr.backward()\n",
        "        optimizer.step()\n",
        "\n",
        "        total_loss += loss_tr.item()\n",
        "\n",
        "        train_acc += (np.sum(np.array(output.argmax(dim=1).tolist()) == np.array(y.argmax(dim=1).tolist())))/len(train_data)\n",
        "    total_loss /= len(train_loader)\n",
        "\n",
        "    valid_loss = 0\n",
        "    valid_acc = 0\n",
        "    with torch.inference_mode():\n",
        "        for [x0, x1], y in test_loader:\n",
        "            x0 = x0.to(device).float()\n",
        "            x1 = x1.to(device).float()\n",
        "            y = y.to(device)\n",
        "\n",
        "            target = model(x0, x1)\n",
        "            loss_v = loss_fn(target, y)\n",
        "            # writer.add_scalar(\"Loss/val\", loss_v, e)\n",
        "\n",
        "            valid_loss += loss_v.item()\n",
        "            valid_acc += (np.sum(np.array(target.argmax(dim=1).tolist()) == np.array(y.argmax(dim=1).tolist())))/len(test_data)\n",
        "        # writer.add_scalar(\"Accuracy/val\", valid_acc, e)\n",
        "    valid_loss /= len(test_loader)\n",
        "    scheduler.step(valid_loss)\n",
        "\n",
        "    # remember best acc@ and save checkpoint\n",
        "    is_best = valid_acc > best_acc\n",
        "    best_acc = max(valid_acc, best_acc)\n",
        "    save_checkpoint(model.state_dict(), is_best, E)\n",
        "\n",
        "    print(e , \"total_loss: \" , total_loss, \",train_acc: \", train_acc,\",valid_loss: \",valid_loss,\",valid_acc: \", valid_acc)\n",
        "    # break\n",
        "    # writer.flush()"
      ],
      "metadata": {
        "colab": {
          "base_uri": "https://localhost:8080/"
        },
        "id": "wZa1BFaIjIXj",
        "outputId": "b1a44b21-22bb-4fb4-b64a-9718cdf24f0c"
      },
      "execution_count": null,
      "outputs": [
        {
          "output_type": "stream",
          "name": "stderr",
          "text": [
            "100%|██████████| 78/78 [00:01<00:00, 67.72it/s]\n"
          ]
        },
        {
          "output_type": "stream",
          "name": "stdout",
          "text": [
            "Found best\n",
            "0 total_loss:  0.4731374400314421 ,train_acc:  0.8396946564885494 ,valid_loss:  0.4278325788242122 ,valid_acc:  0.8812199036918138\n"
          ]
        },
        {
          "output_type": "stream",
          "name": "stderr",
          "text": [
            "100%|██████████| 78/78 [00:01<00:00, 61.34it/s]\n"
          ]
        },
        {
          "output_type": "stream",
          "name": "stdout",
          "text": [
            "Found best\n",
            "1 total_loss:  0.36534845066615024 ,train_acc:  0.9509843310566493 ,valid_loss:  0.36623963839684925 ,valid_acc:  0.9502407704654894\n"
          ]
        },
        {
          "output_type": "stream",
          "name": "stderr",
          "text": [
            "100%|██████████| 78/78 [00:01<00:00, 66.36it/s]\n"
          ]
        },
        {
          "output_type": "stream",
          "name": "stdout",
          "text": [
            "2 total_loss:  0.3592969886614726 ,train_acc:  0.9537967055042186 ,valid_loss:  0.38746842298656703 ,valid_acc:  0.9213483146067414\n"
          ]
        },
        {
          "output_type": "stream",
          "name": "stderr",
          "text": [
            "100%|██████████| 78/78 [00:01<00:00, 44.38it/s]\n"
          ]
        },
        {
          "output_type": "stream",
          "name": "stdout",
          "text": [
            "Found best\n",
            "3 total_loss:  0.36329005858884794 ,train_acc:  0.9505825632784252 ,valid_loss:  0.351967961244906 ,valid_acc:  0.9630818619582661\n"
          ]
        },
        {
          "output_type": "stream",
          "name": "stderr",
          "text": [
            "100%|██████████| 78/78 [00:01<00:00, 46.61it/s]\n"
          ]
        },
        {
          "output_type": "stream",
          "name": "stdout",
          "text": [
            "Found best\n",
            "4 total_loss:  0.35286895658295503 ,train_acc:  0.9590196866211333 ,valid_loss:  0.34918822357741497 ,valid_acc:  0.9646869983948633\n"
          ]
        },
        {
          "output_type": "stream",
          "name": "stderr",
          "text": [
            "100%|██████████| 78/78 [00:01<00:00, 61.69it/s]\n"
          ]
        },
        {
          "output_type": "stream",
          "name": "stdout",
          "text": [
            "5 total_loss:  0.35332774399612576 ,train_acc:  0.9582161510646847 ,valid_loss:  0.3539720856491476 ,valid_acc:  0.9566613162118778\n"
          ]
        },
        {
          "output_type": "stream",
          "name": "stderr",
          "text": [
            "100%|██████████| 78/78 [00:01<00:00, 66.02it/s]\n"
          ]
        },
        {
          "output_type": "stream",
          "name": "stdout",
          "text": [
            "6 total_loss:  0.3579843584443323 ,train_acc:  0.9537967055042186 ,valid_loss:  0.36827014877150455 ,valid_acc:  0.9422150882825038\n"
          ]
        },
        {
          "output_type": "stream",
          "name": "stderr",
          "text": [
            "100%|██████████| 78/78 [00:01<00:00, 64.61it/s]\n"
          ]
        },
        {
          "output_type": "stream",
          "name": "stdout",
          "text": [
            "7 total_loss:  0.3500388288249572 ,train_acc:  0.9626355966251512 ,valid_loss:  0.3531278346944601 ,valid_acc:  0.958266452648475\n"
          ]
        },
        {
          "output_type": "stream",
          "name": "stderr",
          "text": [
            "100%|██████████| 78/78 [00:01<00:00, 69.44it/s]\n"
          ]
        },
        {
          "output_type": "stream",
          "name": "stdout",
          "text": [
            "8 total_loss:  0.347414102013199 ,train_acc:  0.9654479710727205 ,valid_loss:  0.36055072270644206 ,valid_acc:  0.9566613162118777\n"
          ]
        },
        {
          "output_type": "stream",
          "name": "stderr",
          "text": [
            "100%|██████████| 78/78 [00:01<00:00, 67.39it/s]\n"
          ]
        },
        {
          "output_type": "stream",
          "name": "stdout",
          "text": [
            "Found best\n",
            "9 total_loss:  0.34946335294021247 ,train_acc:  0.9634391321815994 ,valid_loss:  0.3346927077664683 ,valid_acc:  0.9823434991974314\n"
          ]
        },
        {
          "output_type": "stream",
          "name": "stderr",
          "text": [
            "100%|██████████| 78/78 [00:01<00:00, 63.44it/s]\n"
          ]
        },
        {
          "output_type": "stream",
          "name": "stdout",
          "text": [
            "10 total_loss:  0.34028190885360043 ,train_acc:  0.9730815588589803 ,valid_loss:  0.3354375300835818 ,valid_acc:  0.9775280898876402\n"
          ]
        },
        {
          "output_type": "stream",
          "name": "stderr",
          "text": [
            "100%|██████████| 78/78 [00:01<00:00, 68.33it/s]\n"
          ]
        },
        {
          "output_type": "stream",
          "name": "stdout",
          "text": [
            "11 total_loss:  0.3431354139878964 ,train_acc:  0.9706709521896351 ,valid_loss:  0.33196922940202056 ,valid_acc:  0.9807383627608344\n"
          ]
        },
        {
          "output_type": "stream",
          "name": "stderr",
          "text": [
            "100%|██████████| 78/78 [00:01<00:00, 46.58it/s]\n"
          ]
        },
        {
          "output_type": "stream",
          "name": "stdout",
          "text": [
            "12 total_loss:  0.34152026786874884 ,train_acc:  0.9702691844114107 ,valid_loss:  0.3326499485193441 ,valid_acc:  0.9807383627608344\n"
          ]
        },
        {
          "output_type": "stream",
          "name": "stderr",
          "text": [
            "100%|██████████| 78/78 [00:01<00:00, 51.45it/s]\n"
          ]
        },
        {
          "output_type": "stream",
          "name": "stdout",
          "text": [
            "13 total_loss:  0.32907293920285813 ,train_acc:  0.9843310566492577 ,valid_loss:  0.33111659305791064 ,valid_acc:  0.9807383627608344\n"
          ]
        },
        {
          "output_type": "stream",
          "name": "stderr",
          "text": [
            "100%|██████████| 78/78 [00:01<00:00, 65.14it/s]\n"
          ]
        },
        {
          "output_type": "stream",
          "name": "stdout",
          "text": [
            "14 total_loss:  0.3337996467608863 ,train_acc:  0.9799116110887915 ,valid_loss:  0.33954555846440293 ,valid_acc:  0.9727126805778489\n"
          ]
        },
        {
          "output_type": "stream",
          "name": "stderr",
          "text": [
            "100%|██████████| 78/78 [00:01<00:00, 67.23it/s]\n"
          ]
        },
        {
          "output_type": "stream",
          "name": "stdout",
          "text": [
            "15 total_loss:  0.3472273816903814 ,train_acc:  0.9662515066291688 ,valid_loss:  0.3487866329712172 ,valid_acc:  0.9630818619582663\n"
          ]
        },
        {
          "output_type": "stream",
          "name": "stderr",
          "text": [
            "100%|██████████| 78/78 [00:01<00:00, 65.36it/s]\n"
          ]
        },
        {
          "output_type": "stream",
          "name": "stdout",
          "text": [
            "16 total_loss:  0.34313447507384875 ,train_acc:  0.9702691844114107 ,valid_loss:  0.3329424592449019 ,valid_acc:  0.9791332263242373\n"
          ]
        },
        {
          "output_type": "stream",
          "name": "stderr",
          "text": [
            "100%|██████████| 78/78 [00:01<00:00, 66.35it/s]\n"
          ]
        },
        {
          "output_type": "stream",
          "name": "stdout",
          "text": [
            "17 total_loss:  0.3493239014562315 ,train_acc:  0.9642426677380478 ,valid_loss:  0.335221003346766 ,valid_acc:  0.9775280898876402\n"
          ]
        },
        {
          "output_type": "stream",
          "name": "stderr",
          "text": [
            "100%|██████████| 78/78 [00:01<00:00, 66.30it/s]\n"
          ]
        },
        {
          "output_type": "stream",
          "name": "stdout",
          "text": [
            "Found best\n",
            "18 total_loss:  0.33501231877801896 ,train_acc:  0.9779027721976705 ,valid_loss:  0.3272985054148982 ,valid_acc:  0.9855537720706257\n"
          ]
        },
        {
          "output_type": "stream",
          "name": "stderr",
          "text": [
            "100%|██████████| 78/78 [00:01<00:00, 64.51it/s]\n"
          ]
        },
        {
          "output_type": "stream",
          "name": "stdout",
          "text": [
            "Found best\n",
            "19 total_loss:  0.33009277819584193 ,train_acc:  0.982723985536361 ,valid_loss:  0.3259479166287929 ,valid_acc:  0.9871589085072228\n"
          ]
        },
        {
          "output_type": "stream",
          "name": "stderr",
          "text": [
            "100%|██████████| 78/78 [00:01<00:00, 62.32it/s]\n"
          ]
        },
        {
          "output_type": "stream",
          "name": "stdout",
          "text": [
            "20 total_loss:  0.32993982067809274 ,train_acc:  0.9827239855363611 ,valid_loss:  0.327905870138978 ,valid_acc:  0.9855537720706257\n"
          ]
        },
        {
          "output_type": "stream",
          "name": "stderr",
          "text": [
            "100%|██████████| 78/78 [00:01<00:00, 47.57it/s]\n"
          ]
        },
        {
          "output_type": "stream",
          "name": "stdout",
          "text": [
            "21 total_loss:  0.3373359685118955 ,train_acc:  0.9758939333065496 ,valid_loss:  0.3294875710395475 ,valid_acc:  0.9839486356340286\n"
          ]
        },
        {
          "output_type": "stream",
          "name": "stderr",
          "text": [
            "100%|██████████| 78/78 [00:01<00:00, 57.30it/s]\n"
          ]
        },
        {
          "output_type": "stream",
          "name": "stdout",
          "text": [
            "22 total_loss:  0.34710352546129475 ,train_acc:  0.9650462032944962 ,valid_loss:  0.32899896255073446 ,valid_acc:  0.9839486356340286\n"
          ]
        },
        {
          "output_type": "stream",
          "name": "stderr",
          "text": [
            "100%|██████████| 78/78 [00:01<00:00, 64.32it/s]\n"
          ]
        },
        {
          "output_type": "stream",
          "name": "stdout",
          "text": [
            "23 total_loss:  0.33286345094155806 ,train_acc:  0.9799116110887915 ,valid_loss:  0.32861846951457363 ,valid_acc:  0.9839486356340286\n"
          ]
        },
        {
          "output_type": "stream",
          "name": "stderr",
          "text": [
            "100%|██████████| 78/78 [00:01<00:00, 66.35it/s]\n"
          ]
        },
        {
          "output_type": "stream",
          "name": "stdout",
          "text": [
            "24 total_loss:  0.32988163417587296 ,train_acc:  0.9831257533145852 ,valid_loss:  0.3314295136680206 ,valid_acc:  0.9839486356340286\n"
          ]
        },
        {
          "output_type": "stream",
          "name": "stderr",
          "text": [
            "100%|██████████| 78/78 [00:01<00:00, 65.69it/s]\n"
          ]
        },
        {
          "output_type": "stream",
          "name": "stdout",
          "text": [
            "25 total_loss:  0.3297085324741709 ,train_acc:  0.9839292888710336 ,valid_loss:  0.32573952721121413 ,valid_acc:  0.9871589085072228\n"
          ]
        },
        {
          "output_type": "stream",
          "name": "stderr",
          "text": [
            "100%|██████████| 78/78 [00:01<00:00, 66.71it/s]\n"
          ]
        },
        {
          "output_type": "stream",
          "name": "stdout",
          "text": [
            "26 total_loss:  0.3349658737293421 ,train_acc:  0.9775010044194464 ,valid_loss:  0.33472982805532714 ,valid_acc:  0.9791332263242372\n"
          ]
        },
        {
          "output_type": "stream",
          "name": "stderr",
          "text": [
            "100%|██████████| 78/78 [00:01<00:00, 66.38it/s]\n"
          ]
        },
        {
          "output_type": "stream",
          "name": "stdout",
          "text": [
            "27 total_loss:  0.34763786574300287 ,train_acc:  0.9650462032944963 ,valid_loss:  0.3434747094133248 ,valid_acc:  0.9711075441412518\n"
          ]
        },
        {
          "output_type": "stream",
          "name": "stderr",
          "text": [
            "100%|██████████| 78/78 [00:01<00:00, 67.59it/s]\n"
          ]
        },
        {
          "output_type": "stream",
          "name": "stdout",
          "text": [
            "28 total_loss:  0.33780840577223364 ,train_acc:  0.9754921655283254 ,valid_loss:  0.3499324080068618 ,valid_acc:  0.959871589085072\n"
          ]
        },
        {
          "output_type": "stream",
          "name": "stderr",
          "text": [
            "100%|██████████| 78/78 [00:01<00:00, 57.48it/s]\n"
          ]
        },
        {
          "output_type": "stream",
          "name": "stdout",
          "text": [
            "29 total_loss:  0.34217874141505517 ,train_acc:  0.9710727199678592 ,valid_loss:  0.3776729056518525 ,valid_acc:  0.9357945425361153\n"
          ]
        },
        {
          "output_type": "stream",
          "name": "stderr",
          "text": [
            "100%|██████████| 78/78 [00:01<00:00, 48.06it/s]\n"
          ]
        },
        {
          "output_type": "stream",
          "name": "stdout",
          "text": [
            "30 total_loss:  0.3345271731521457 ,train_acc:  0.9775010044194464 ,valid_loss:  0.34515516214693587 ,valid_acc:  0.9695024077046546\n"
          ]
        },
        {
          "output_type": "stream",
          "name": "stderr",
          "text": [
            "100%|██████████| 78/78 [00:01<00:00, 57.45it/s]\n"
          ]
        },
        {
          "output_type": "stream",
          "name": "stdout",
          "text": [
            "Epoch 00032: reducing learning rate of group 0 to 5.0000e-04.\n",
            "31 total_loss:  0.3311961862889047 ,train_acc:  0.9823222177581369 ,valid_loss:  0.33741678057859337 ,valid_acc:  0.9791332263242372\n"
          ]
        },
        {
          "output_type": "stream",
          "name": "stderr",
          "text": [
            "100%|██████████| 78/78 [00:01<00:00, 67.04it/s]\n"
          ]
        },
        {
          "output_type": "stream",
          "name": "stdout",
          "text": [
            "Found best\n",
            "32 total_loss:  0.3277654737033523 ,train_acc:  0.9851345922057062 ,valid_loss:  0.32439244811423124 ,valid_acc:  0.9887640449438199\n"
          ]
        },
        {
          "output_type": "stream",
          "name": "stderr",
          "text": [
            "100%|██████████| 78/78 [00:01<00:00, 65.12it/s]\n"
          ]
        },
        {
          "output_type": "stream",
          "name": "stdout",
          "text": [
            "33 total_loss:  0.3303044180295024 ,train_acc:  0.982723985536361 ,valid_loss:  0.32659001401004695 ,valid_acc:  0.9871589085072228\n"
          ]
        },
        {
          "output_type": "stream",
          "name": "stderr",
          "text": [
            "100%|██████████| 78/78 [00:01<00:00, 63.44it/s]\n"
          ]
        },
        {
          "output_type": "stream",
          "name": "stdout",
          "text": [
            "34 total_loss:  0.3284856326524646 ,train_acc:  0.984732824427482 ,valid_loss:  0.32662866519453626 ,valid_acc:  0.9855537720706257\n"
          ]
        },
        {
          "output_type": "stream",
          "name": "stderr",
          "text": [
            "100%|██████████| 78/78 [00:01<00:00, 64.24it/s]\n"
          ]
        },
        {
          "output_type": "stream",
          "name": "stdout",
          "text": [
            "35 total_loss:  0.32832852750539016 ,train_acc:  0.984732824427482 ,valid_loss:  0.32700230782230694 ,valid_acc:  0.9855537720706257\n"
          ]
        },
        {
          "output_type": "stream",
          "name": "stderr",
          "text": [
            "100%|██████████| 78/78 [00:01<00:00, 63.39it/s]\n"
          ]
        },
        {
          "output_type": "stream",
          "name": "stdout",
          "text": [
            "36 total_loss:  0.33058807408246094 ,train_acc:  0.9823222177581368 ,valid_loss:  0.3324370135025432 ,valid_acc:  0.9807383627608343\n"
          ]
        },
        {
          "output_type": "stream",
          "name": "stderr",
          "text": [
            "100%|██████████| 78/78 [00:01<00:00, 59.02it/s]\n"
          ]
        },
        {
          "output_type": "stream",
          "name": "stdout",
          "text": [
            "37 total_loss:  0.3291266948662889 ,train_acc:  0.9843310566492577 ,valid_loss:  0.3254595752370854 ,valid_acc:  0.9871589085072228\n"
          ]
        },
        {
          "output_type": "stream",
          "name": "stderr",
          "text": [
            "100%|██████████| 78/78 [00:01<00:00, 47.48it/s]\n"
          ]
        },
        {
          "output_type": "stream",
          "name": "stdout",
          "text": [
            "38 total_loss:  0.3266873359651519 ,train_acc:  0.9863398955403788 ,valid_loss:  0.32906469436362384 ,valid_acc:  0.9839486356340286\n"
          ]
        },
        {
          "output_type": "stream",
          "name": "stderr",
          "text": [
            "100%|██████████| 78/78 [00:01<00:00, 45.60it/s]\n"
          ]
        },
        {
          "output_type": "stream",
          "name": "stdout",
          "text": [
            "39 total_loss:  0.3289832004092825 ,train_acc:  0.9843310566492577 ,valid_loss:  0.32764214409204817 ,valid_acc:  0.9871589085072228\n"
          ]
        },
        {
          "output_type": "stream",
          "name": "stderr",
          "text": [
            "100%|██████████| 78/78 [00:01<00:00, 63.34it/s]\n"
          ]
        },
        {
          "output_type": "stream",
          "name": "stdout",
          "text": [
            "40 total_loss:  0.32940677649269884 ,train_acc:  0.9835275210928094 ,valid_loss:  0.3260396246022234 ,valid_acc:  0.9871589085072228\n"
          ]
        },
        {
          "output_type": "stream",
          "name": "stderr",
          "text": [
            "100%|██████████| 78/78 [00:01<00:00, 64.29it/s]\n"
          ]
        },
        {
          "output_type": "stream",
          "name": "stdout",
          "text": [
            "41 total_loss:  0.32717340028677616 ,train_acc:  0.9859381277621545 ,valid_loss:  0.3253969505894929 ,valid_acc:  0.9871589085072228\n"
          ]
        },
        {
          "output_type": "stream",
          "name": "stderr",
          "text": [
            "100%|██████████| 78/78 [00:01<00:00, 63.82it/s]\n"
          ]
        },
        {
          "output_type": "stream",
          "name": "stdout",
          "text": [
            "Found best\n",
            "42 total_loss:  0.326146744909959 ,train_acc:  0.9871434310968271 ,valid_loss:  0.3226983659714461 ,valid_acc:  0.990369181380417\n"
          ]
        },
        {
          "output_type": "stream",
          "name": "stderr",
          "text": [
            "100%|██████████| 78/78 [00:01<00:00, 65.14it/s]\n"
          ]
        },
        {
          "output_type": "stream",
          "name": "stdout",
          "text": [
            "43 total_loss:  0.32739876759978825 ,train_acc:  0.9859381277621545 ,valid_loss:  0.3264436968198667 ,valid_acc:  0.9855537720706257\n"
          ]
        },
        {
          "output_type": "stream",
          "name": "stderr",
          "text": [
            "100%|██████████| 78/78 [00:01<00:00, 58.60it/s]\n"
          ]
        },
        {
          "output_type": "stream",
          "name": "stdout",
          "text": [
            "44 total_loss:  0.3274652002355418 ,train_acc:  0.9859381277621546 ,valid_loss:  0.32747462632445 ,valid_acc:  0.9855537720706257\n"
          ]
        },
        {
          "output_type": "stream",
          "name": "stderr",
          "text": [
            "100%|██████████| 78/78 [00:01<00:00, 56.46it/s]\n"
          ]
        },
        {
          "output_type": "stream",
          "name": "stdout",
          "text": [
            "45 total_loss:  0.32891930131910324 ,train_acc:  0.9843310566492578 ,valid_loss:  0.3296596869826317 ,valid_acc:  0.9839486356340286\n"
          ]
        },
        {
          "output_type": "stream",
          "name": "stderr",
          "text": [
            "100%|██████████| 78/78 [00:01<00:00, 54.26it/s]\n"
          ]
        },
        {
          "output_type": "stream",
          "name": "stdout",
          "text": [
            "46 total_loss:  0.3266272781870495 ,train_acc:  0.9867416633186029 ,valid_loss:  0.3230980717545996 ,valid_acc:  0.990369181380417\n"
          ]
        },
        {
          "output_type": "stream",
          "name": "stderr",
          "text": [
            "100%|██████████| 78/78 [00:01<00:00, 43.63it/s]\n"
          ]
        },
        {
          "output_type": "stream",
          "name": "stdout",
          "text": [
            "47 total_loss:  0.3263616486753409 ,train_acc:  0.9867416633186029 ,valid_loss:  0.32465488178345064 ,valid_acc:  0.9887640449438199\n"
          ]
        },
        {
          "output_type": "stream",
          "name": "stderr",
          "text": [
            "100%|██████████| 78/78 [00:01<00:00, 56.62it/s]\n"
          ]
        },
        {
          "output_type": "stream",
          "name": "stdout",
          "text": [
            "Epoch 00049: reducing learning rate of group 0 to 2.5000e-04.\n",
            "48 total_loss:  0.32844327109268845 ,train_acc:  0.9847328244274819 ,valid_loss:  0.32423333256194986 ,valid_acc:  0.9887640449438199\n"
          ]
        },
        {
          "output_type": "stream",
          "name": "stderr",
          "text": [
            "100%|██████████| 78/78 [00:01<00:00, 66.73it/s]\n"
          ]
        },
        {
          "output_type": "stream",
          "name": "stdout",
          "text": [
            "49 total_loss:  0.3262464791799012 ,train_acc:  0.9871434310968271 ,valid_loss:  0.32266858498565854 ,valid_acc:  0.990369181380417\n"
          ]
        },
        {
          "output_type": "stream",
          "name": "stderr",
          "text": [
            "100%|██████████| 78/78 [00:01<00:00, 66.04it/s]\n"
          ]
        },
        {
          "output_type": "stream",
          "name": "stdout",
          "text": [
            "50 total_loss:  0.3260808700896226 ,train_acc:  0.9871434310968272 ,valid_loss:  0.32420864663397275 ,valid_acc:  0.9887640449438199\n"
          ]
        },
        {
          "output_type": "stream",
          "name": "stderr",
          "text": [
            "100%|██████████| 78/78 [00:01<00:00, 64.88it/s]\n"
          ]
        },
        {
          "output_type": "stream",
          "name": "stdout",
          "text": [
            "51 total_loss:  0.32563537469897896 ,train_acc:  0.9875451988750513 ,valid_loss:  0.3256172887887806 ,valid_acc:  0.9871589085072228\n"
          ]
        },
        {
          "output_type": "stream",
          "name": "stderr",
          "text": [
            "100%|██████████| 78/78 [00:01<00:00, 62.74it/s]\n"
          ]
        },
        {
          "output_type": "stream",
          "name": "stdout",
          "text": [
            "52 total_loss:  0.3262505034567454 ,train_acc:  0.9871434310968271 ,valid_loss:  0.32488932462098696 ,valid_acc:  0.990369181380417\n"
          ]
        },
        {
          "output_type": "stream",
          "name": "stderr",
          "text": [
            "100%|██████████| 78/78 [00:01<00:00, 61.30it/s]\n"
          ]
        },
        {
          "output_type": "stream",
          "name": "stdout",
          "text": [
            "53 total_loss:  0.326701263185495 ,train_acc:  0.986741663318603 ,valid_loss:  0.32273748971211413 ,valid_acc:  0.990369181380417\n"
          ]
        },
        {
          "output_type": "stream",
          "name": "stderr",
          "text": [
            "100%|██████████| 78/78 [00:01<00:00, 63.96it/s]\n"
          ]
        },
        {
          "output_type": "stream",
          "name": "stdout",
          "text": [
            "54 total_loss:  0.3266841567694568 ,train_acc:  0.9867416633186029 ,valid_loss:  0.3266378542594611 ,valid_acc:  0.9855537720706257\n"
          ]
        },
        {
          "output_type": "stream",
          "name": "stderr",
          "text": [
            "100%|██████████| 78/78 [00:01<00:00, 53.66it/s]\n"
          ]
        },
        {
          "output_type": "stream",
          "name": "stdout",
          "text": [
            "55 total_loss:  0.3260576231529315 ,train_acc:  0.9875451988750513 ,valid_loss:  0.32585894292841355 ,valid_acc:  0.9871589085072228\n"
          ]
        },
        {
          "output_type": "stream",
          "name": "stderr",
          "text": [
            "100%|██████████| 78/78 [00:01<00:00, 42.34it/s]\n"
          ]
        },
        {
          "output_type": "stream",
          "name": "stdout",
          "text": [
            "56 total_loss:  0.32555461500174343 ,train_acc:  0.9879469666532756 ,valid_loss:  0.32335139833390714 ,valid_acc:  0.990369181380417\n"
          ]
        },
        {
          "output_type": "stream",
          "name": "stderr",
          "text": [
            "100%|██████████| 78/78 [00:01<00:00, 65.16it/s]\n"
          ]
        },
        {
          "output_type": "stream",
          "name": "stdout",
          "text": [
            "57 total_loss:  0.3253831805785497 ,train_acc:  0.9879469666532755 ,valid_loss:  0.3262453039487203 ,valid_acc:  0.9887640449438198\n"
          ]
        },
        {
          "output_type": "stream",
          "name": "stderr",
          "text": [
            "100%|██████████| 78/78 [00:01<00:00, 64.71it/s]\n"
          ]
        },
        {
          "output_type": "stream",
          "name": "stdout",
          "text": [
            "58 total_loss:  0.32571454739102573 ,train_acc:  0.9875451988750513 ,valid_loss:  0.3226561687886715 ,valid_acc:  0.990369181380417\n"
          ]
        },
        {
          "output_type": "stream",
          "name": "stderr",
          "text": [
            "100%|██████████| 78/78 [00:01<00:00, 63.78it/s]\n"
          ]
        },
        {
          "output_type": "stream",
          "name": "stdout",
          "text": [
            "59 total_loss:  0.3264770312468784 ,train_acc:  0.9867416633186029 ,valid_loss:  0.32267409317195417 ,valid_acc:  0.990369181380417\n"
          ]
        },
        {
          "output_type": "stream",
          "name": "stderr",
          "text": [
            "100%|██████████| 78/78 [00:01<00:00, 61.86it/s]\n"
          ]
        },
        {
          "output_type": "stream",
          "name": "stdout",
          "text": [
            "60 total_loss:  0.3257842399141727 ,train_acc:  0.9875451988750514 ,valid_loss:  0.3235889992242058 ,valid_acc:  0.9887640449438199\n"
          ]
        },
        {
          "output_type": "stream",
          "name": "stderr",
          "text": [
            "100%|██████████| 78/78 [00:01<00:00, 62.97it/s]\n"
          ]
        },
        {
          "output_type": "stream",
          "name": "stdout",
          "text": [
            "61 total_loss:  0.3262642816544917 ,train_acc:  0.9871434310968272 ,valid_loss:  0.3242078275543948 ,valid_acc:  0.9887640449438199\n"
          ]
        },
        {
          "output_type": "stream",
          "name": "stderr",
          "text": [
            "100%|██████████| 78/78 [00:01<00:00, 59.82it/s]\n"
          ]
        },
        {
          "output_type": "stream",
          "name": "stdout",
          "text": [
            "62 total_loss:  0.32795613703294063 ,train_acc:  0.9851345922057062 ,valid_loss:  0.32872112292796374 ,valid_acc:  0.9855537720706256\n"
          ]
        },
        {
          "output_type": "stream",
          "name": "stderr",
          "text": [
            "100%|██████████| 78/78 [00:01<00:00, 66.81it/s]\n"
          ]
        },
        {
          "output_type": "stream",
          "name": "stdout",
          "text": [
            "63 total_loss:  0.3270603051141669 ,train_acc:  0.9859381277621545 ,valid_loss:  0.3282770248285184 ,valid_acc:  0.9855537720706256\n"
          ]
        },
        {
          "output_type": "stream",
          "name": "stderr",
          "text": [
            "100%|██████████| 78/78 [00:01<00:00, 49.26it/s]\n"
          ]
        },
        {
          "output_type": "stream",
          "name": "stdout",
          "text": [
            "Epoch 00065: reducing learning rate of group 0 to 1.2500e-04.\n",
            "64 total_loss:  0.32627551993307397 ,train_acc:  0.9871434310968271 ,valid_loss:  0.32266754788657026 ,valid_acc:  0.990369181380417\n"
          ]
        },
        {
          "output_type": "stream",
          "name": "stderr",
          "text": [
            "100%|██████████| 78/78 [00:01<00:00, 54.05it/s]\n"
          ]
        },
        {
          "output_type": "stream",
          "name": "stdout",
          "text": [
            "65 total_loss:  0.32582807421732024 ,train_acc:  0.9875451988750514 ,valid_loss:  0.3259135047874103 ,valid_acc:  0.9871589085072228\n"
          ]
        },
        {
          "output_type": "stream",
          "name": "stderr",
          "text": [
            "100%|██████████| 78/78 [00:01<00:00, 69.33it/s]\n"
          ]
        },
        {
          "output_type": "stream",
          "name": "stdout",
          "text": [
            "66 total_loss:  0.3256984067025284 ,train_acc:  0.9875451988750513 ,valid_loss:  0.32418202528730033 ,valid_acc:  0.9887640449438199\n"
          ]
        },
        {
          "output_type": "stream",
          "name": "stderr",
          "text": [
            "100%|██████████| 78/78 [00:01<00:00, 69.13it/s]\n"
          ]
        },
        {
          "output_type": "stream",
          "name": "stdout",
          "text": [
            "67 total_loss:  0.3246790348628584 ,train_acc:  0.9883487344314997 ,valid_loss:  0.32598973430693146 ,valid_acc:  0.9855537720706257\n"
          ]
        },
        {
          "output_type": "stream",
          "name": "stderr",
          "text": [
            "100%|██████████| 78/78 [00:01<00:00, 68.25it/s]\n"
          ]
        },
        {
          "output_type": "stream",
          "name": "stdout",
          "text": [
            "68 total_loss:  0.32638545277743386 ,train_acc:  0.9867416633186029 ,valid_loss:  0.3256841232503454 ,valid_acc:  0.9871589085072228\n"
          ]
        },
        {
          "output_type": "stream",
          "name": "stderr",
          "text": [
            "100%|██████████| 78/78 [00:01<00:00, 68.06it/s]\n"
          ]
        },
        {
          "output_type": "stream",
          "name": "stdout",
          "text": [
            "69 total_loss:  0.32604110560976923 ,train_acc:  0.9871434310968271 ,valid_loss:  0.32534785553812984 ,valid_acc:  0.9887640449438198\n"
          ]
        },
        {
          "output_type": "stream",
          "name": "stderr",
          "text": [
            "100%|██████████| 78/78 [00:01<00:00, 64.55it/s]\n"
          ]
        },
        {
          "output_type": "stream",
          "name": "stdout",
          "text": [
            "70 total_loss:  0.325252394065834 ,train_acc:  0.9883487344314997 ,valid_loss:  0.32269037193308275 ,valid_acc:  0.990369181380417\n"
          ]
        },
        {
          "output_type": "stream",
          "name": "stderr",
          "text": [
            "100%|██████████| 78/78 [00:01<00:00, 66.38it/s]\n"
          ]
        },
        {
          "output_type": "stream",
          "name": "stdout",
          "text": [
            "71 total_loss:  0.3258214157762436 ,train_acc:  0.9875451988750513 ,valid_loss:  0.3242145662009716 ,valid_acc:  0.9887640449438199\n"
          ]
        },
        {
          "output_type": "stream",
          "name": "stderr",
          "text": [
            "100%|██████████| 78/78 [00:01<00:00, 67.25it/s]\n"
          ]
        },
        {
          "output_type": "stream",
          "name": "stdout",
          "text": [
            "72 total_loss:  0.3249815327182221 ,train_acc:  0.9879469666532755 ,valid_loss:  0.3226432601641863 ,valid_acc:  0.990369181380417\n"
          ]
        },
        {
          "output_type": "stream",
          "name": "stderr",
          "text": [
            "100%|██████████| 78/78 [00:01<00:00, 50.19it/s]\n"
          ]
        },
        {
          "output_type": "stream",
          "name": "stdout",
          "text": [
            "73 total_loss:  0.3249338587320959 ,train_acc:  0.9883487344314996 ,valid_loss:  0.3244231746376803 ,valid_acc:  0.9887640449438199\n"
          ]
        },
        {
          "output_type": "stream",
          "name": "stderr",
          "text": [
            "100%|██████████| 78/78 [00:01<00:00, 50.93it/s]\n"
          ]
        },
        {
          "output_type": "stream",
          "name": "stdout",
          "text": [
            "74 total_loss:  0.32549655388419824 ,train_acc:  0.9875451988750514 ,valid_loss:  0.3226465338220199 ,valid_acc:  0.990369181380417\n"
          ]
        },
        {
          "output_type": "stream",
          "name": "stderr",
          "text": [
            "100%|██████████| 78/78 [00:01<00:00, 68.90it/s]\n"
          ]
        },
        {
          "output_type": "stream",
          "name": "stdout",
          "text": [
            "Epoch 00076: reducing learning rate of group 0 to 6.2500e-05.\n",
            "75 total_loss:  0.32529638529396976 ,train_acc:  0.9883487344314997 ,valid_loss:  0.3265262069925666 ,valid_acc:  0.9855537720706256\n"
          ]
        },
        {
          "output_type": "stream",
          "name": "stderr",
          "text": [
            "100%|██████████| 78/78 [00:01<00:00, 68.81it/s]\n"
          ]
        },
        {
          "output_type": "stream",
          "name": "stdout",
          "text": [
            "76 total_loss:  0.326162104441856 ,train_acc:  0.9871434310968272 ,valid_loss:  0.32265135139226914 ,valid_acc:  0.990369181380417\n"
          ]
        },
        {
          "output_type": "stream",
          "name": "stderr",
          "text": [
            "100%|██████████| 78/78 [00:01<00:00, 66.41it/s]\n"
          ]
        },
        {
          "output_type": "stream",
          "name": "stdout",
          "text": [
            "77 total_loss:  0.3253017569696292 ,train_acc:  0.9879469666532755 ,valid_loss:  0.32529578925731284 ,valid_acc:  0.9887640449438198\n"
          ]
        },
        {
          "output_type": "stream",
          "name": "stderr",
          "text": [
            "100%|██████████| 78/78 [00:01<00:00, 67.15it/s]\n"
          ]
        },
        {
          "output_type": "stream",
          "name": "stdout",
          "text": [
            "78 total_loss:  0.3265596881766732 ,train_acc:  0.9867416633186029 ,valid_loss:  0.32420941411207116 ,valid_acc:  0.9887640449438199\n"
          ]
        },
        {
          "output_type": "stream",
          "name": "stderr",
          "text": [
            "100%|██████████| 78/78 [00:01<00:00, 67.33it/s]\n"
          ]
        },
        {
          "output_type": "stream",
          "name": "stdout",
          "text": [
            "79 total_loss:  0.3260648165017558 ,train_acc:  0.9871434310968272 ,valid_loss:  0.32569838033057746 ,valid_acc:  0.9871589085072228\n"
          ]
        },
        {
          "output_type": "stream",
          "name": "stderr",
          "text": [
            "100%|██████████| 78/78 [00:01<00:00, 66.81it/s]\n"
          ]
        },
        {
          "output_type": "stream",
          "name": "stdout",
          "text": [
            "80 total_loss:  0.3257915391309712 ,train_acc:  0.9875451988750514 ,valid_loss:  0.32575395673513413 ,valid_acc:  0.9871589085072228\n"
          ]
        },
        {
          "output_type": "stream",
          "name": "stderr",
          "text": [
            "100%|██████████| 78/78 [00:01<00:00, 67.09it/s]\n"
          ]
        },
        {
          "output_type": "stream",
          "name": "stdout",
          "text": [
            "81 total_loss:  0.32529102657133574 ,train_acc:  0.9879469666532756 ,valid_loss:  0.3242415133335938 ,valid_acc:  0.9887640449438199\n"
          ]
        },
        {
          "output_type": "stream",
          "name": "stderr",
          "text": [
            "100%|██████████| 78/78 [00:01<00:00, 48.55it/s]\n"
          ]
        },
        {
          "output_type": "stream",
          "name": "stdout",
          "text": [
            "82 total_loss:  0.32614005090047915 ,train_acc:  0.9871434310968271 ,valid_loss:  0.32357551500201226 ,valid_acc:  0.990369181380417\n"
          ]
        },
        {
          "output_type": "stream",
          "name": "stderr",
          "text": [
            "100%|██████████| 78/78 [00:01<00:00, 52.60it/s]\n"
          ]
        },
        {
          "output_type": "stream",
          "name": "stdout",
          "text": [
            "83 total_loss:  0.32451088193517463 ,train_acc:  0.9887505022097239 ,valid_loss:  0.32267740299304326 ,valid_acc:  0.990369181380417\n"
          ]
        },
        {
          "output_type": "stream",
          "name": "stderr",
          "text": [
            "100%|██████████| 78/78 [00:01<00:00, 65.91it/s]\n"
          ]
        },
        {
          "output_type": "stream",
          "name": "stdout",
          "text": [
            "84 total_loss:  0.32529156913789803 ,train_acc:  0.9879469666532756 ,valid_loss:  0.32374992390473684 ,valid_acc:  0.9887640449438199\n"
          ]
        },
        {
          "output_type": "stream",
          "name": "stderr",
          "text": [
            "100%|██████████| 78/78 [00:01<00:00, 61.15it/s]\n"
          ]
        },
        {
          "output_type": "stream",
          "name": "stdout",
          "text": [
            "85 total_loss:  0.3249964050299082 ,train_acc:  0.9883487344314997 ,valid_loss:  0.32265828777725497 ,valid_acc:  0.990369181380417\n"
          ]
        },
        {
          "output_type": "stream",
          "name": "stderr",
          "text": [
            "100%|██████████| 78/78 [00:01<00:00, 68.18it/s]\n"
          ]
        },
        {
          "output_type": "stream",
          "name": "stdout",
          "text": [
            "Epoch 00087: reducing learning rate of group 0 to 3.1250e-05.\n",
            "86 total_loss:  0.32490086869312784 ,train_acc:  0.9883487344314997 ,valid_loss:  0.3226404751495769 ,valid_acc:  0.990369181380417\n"
          ]
        },
        {
          "output_type": "stream",
          "name": "stderr",
          "text": [
            "100%|██████████| 78/78 [00:01<00:00, 65.95it/s]\n"
          ]
        },
        {
          "output_type": "stream",
          "name": "stdout",
          "text": [
            "87 total_loss:  0.32451721308848414 ,train_acc:  0.988750502209724 ,valid_loss:  0.32442484581532577 ,valid_acc:  0.990369181380417\n"
          ]
        },
        {
          "output_type": "stream",
          "name": "stderr",
          "text": [
            "100%|██████████| 78/78 [00:01<00:00, 63.94it/s]\n"
          ]
        },
        {
          "output_type": "stream",
          "name": "stdout",
          "text": [
            "88 total_loss:  0.32447371718640894 ,train_acc:  0.9887505022097239 ,valid_loss:  0.32373970477841796 ,valid_acc:  0.9887640449438199\n"
          ]
        },
        {
          "output_type": "stream",
          "name": "stderr",
          "text": [
            "100%|██████████| 78/78 [00:01<00:00, 67.21it/s]\n"
          ]
        },
        {
          "output_type": "stream",
          "name": "stdout",
          "text": [
            "89 total_loss:  0.32592167863192467 ,train_acc:  0.9875451988750513 ,valid_loss:  0.32460963980915647 ,valid_acc:  0.990369181380417\n"
          ]
        },
        {
          "output_type": "stream",
          "name": "stderr",
          "text": [
            "100%|██████████| 78/78 [00:01<00:00, 68.66it/s]\n"
          ]
        },
        {
          "output_type": "stream",
          "name": "stdout",
          "text": [
            "90 total_loss:  0.3244842276679209 ,train_acc:  0.9887505022097239 ,valid_loss:  0.3241603090489904 ,valid_acc:  0.9887640449438199\n"
          ]
        },
        {
          "output_type": "stream",
          "name": "stderr",
          "text": [
            "100%|██████████| 78/78 [00:01<00:00, 49.13it/s]\n"
          ]
        },
        {
          "output_type": "stream",
          "name": "stdout",
          "text": [
            "91 total_loss:  0.32613630563546064 ,train_acc:  0.9871434310968272 ,valid_loss:  0.3226521517553677 ,valid_acc:  0.990369181380417\n"
          ]
        },
        {
          "output_type": "stream",
          "name": "stderr",
          "text": [
            "100%|██████████| 78/78 [00:01<00:00, 54.28it/s]\n"
          ]
        },
        {
          "output_type": "stream",
          "name": "stdout",
          "text": [
            "92 total_loss:  0.32450868969353347 ,train_acc:  0.9887505022097239 ,valid_loss:  0.3275048982848724 ,valid_acc:  0.9871589085072227\n"
          ]
        },
        {
          "output_type": "stream",
          "name": "stderr",
          "text": [
            "100%|██████████| 78/78 [00:01<00:00, 68.16it/s]\n"
          ]
        },
        {
          "output_type": "stream",
          "name": "stdout",
          "text": [
            "93 total_loss:  0.32500394134089733 ,train_acc:  0.9883487344314996 ,valid_loss:  0.322667352228115 ,valid_acc:  0.990369181380417\n"
          ]
        },
        {
          "output_type": "stream",
          "name": "stderr",
          "text": [
            "100%|██████████| 78/78 [00:01<00:00, 65.93it/s]\n"
          ]
        },
        {
          "output_type": "stream",
          "name": "stdout",
          "text": [
            "94 total_loss:  0.32530655804543923 ,train_acc:  0.9879469666532755 ,valid_loss:  0.32444287616138656 ,valid_acc:  0.990369181380417\n"
          ]
        },
        {
          "output_type": "stream",
          "name": "stderr",
          "text": [
            "100%|██████████| 78/78 [00:01<00:00, 65.18it/s]\n"
          ]
        },
        {
          "output_type": "stream",
          "name": "stdout",
          "text": [
            "95 total_loss:  0.32470333908947235 ,train_acc:  0.9887505022097239 ,valid_loss:  0.32265375745793184 ,valid_acc:  0.990369181380417\n"
          ]
        },
        {
          "output_type": "stream",
          "name": "stderr",
          "text": [
            "100%|██████████| 78/78 [00:01<00:00, 66.71it/s]\n"
          ]
        },
        {
          "output_type": "stream",
          "name": "stdout",
          "text": [
            "Found best\n",
            "96 total_loss:  0.3242380797079741 ,train_acc:  0.9891522699879483 ,valid_loss:  0.32285396111818654 ,valid_acc:  0.991974317817014\n"
          ]
        },
        {
          "output_type": "stream",
          "name": "stderr",
          "text": [
            "100%|██████████| 78/78 [00:01<00:00, 60.83it/s]\n"
          ]
        },
        {
          "output_type": "stream",
          "name": "stdout",
          "text": [
            "Epoch 00098: reducing learning rate of group 0 to 1.5625e-05.\n",
            "97 total_loss:  0.32611052652629907 ,train_acc:  0.9871434310968271 ,valid_loss:  0.3242247575397293 ,valid_acc:  0.9887640449438199\n"
          ]
        },
        {
          "output_type": "stream",
          "name": "stderr",
          "text": [
            "100%|██████████| 78/78 [00:01<00:00, 67.61it/s]\n"
          ]
        },
        {
          "output_type": "stream",
          "name": "stdout",
          "text": [
            "98 total_loss:  0.3250737707197475 ,train_acc:  0.9883487344314998 ,valid_loss:  0.3250382681035747 ,valid_acc:  0.9871589085072228\n"
          ]
        },
        {
          "output_type": "stream",
          "name": "stderr",
          "text": [
            "100%|██████████| 78/78 [00:01<00:00, 66.97it/s]\n"
          ]
        },
        {
          "output_type": "stream",
          "name": "stdout",
          "text": [
            "99 total_loss:  0.32505214863385146 ,train_acc:  0.9883487344314997 ,valid_loss:  0.32502725374574465 ,valid_acc:  0.9887640449438199\n"
          ]
        },
        {
          "output_type": "stream",
          "name": "stderr",
          "text": [
            "100%|██████████| 78/78 [00:01<00:00, 49.88it/s]\n"
          ]
        },
        {
          "output_type": "stream",
          "name": "stdout",
          "text": [
            "100 total_loss:  0.3254488261550283 ,train_acc:  0.9879469666532756 ,valid_loss:  0.32420361230149863 ,valid_acc:  0.9887640449438199\n"
          ]
        },
        {
          "output_type": "stream",
          "name": "stderr",
          "text": [
            "100%|██████████| 78/78 [00:01<00:00, 56.62it/s]\n"
          ]
        },
        {
          "output_type": "stream",
          "name": "stdout",
          "text": [
            "101 total_loss:  0.32497228549841123 ,train_acc:  0.9883487344314998 ,valid_loss:  0.322643619744728 ,valid_acc:  0.990369181380417\n"
          ]
        },
        {
          "output_type": "stream",
          "name": "stderr",
          "text": [
            "100%|██████████| 78/78 [00:01<00:00, 65.57it/s]\n"
          ]
        },
        {
          "output_type": "stream",
          "name": "stdout",
          "text": [
            "102 total_loss:  0.3245140262554662 ,train_acc:  0.9887505022097239 ,valid_loss:  0.32270941739281017 ,valid_acc:  0.990369181380417\n"
          ]
        },
        {
          "output_type": "stream",
          "name": "stderr",
          "text": [
            "100%|██████████| 78/78 [00:01<00:00, 65.17it/s]\n"
          ]
        },
        {
          "output_type": "stream",
          "name": "stdout",
          "text": [
            "103 total_loss:  0.32449225031890166 ,train_acc:  0.9887505022097239 ,valid_loss:  0.32266273685420555 ,valid_acc:  0.990369181380417\n"
          ]
        },
        {
          "output_type": "stream",
          "name": "stderr",
          "text": [
            "100%|██████████| 78/78 [00:01<00:00, 67.77it/s]\n"
          ]
        },
        {
          "output_type": "stream",
          "name": "stdout",
          "text": [
            "104 total_loss:  0.3253296770575719 ,train_acc:  0.9879469666532755 ,valid_loss:  0.32264608175183335 ,valid_acc:  0.990369181380417\n"
          ]
        },
        {
          "output_type": "stream",
          "name": "stderr",
          "text": [
            "100%|██████████| 78/78 [00:01<00:00, 66.64it/s]\n"
          ]
        },
        {
          "output_type": "stream",
          "name": "stdout",
          "text": [
            "105 total_loss:  0.32501915625272654 ,train_acc:  0.9883487344314997 ,valid_loss:  0.3275371408524613 ,valid_acc:  0.9871589085072228\n"
          ]
        },
        {
          "output_type": "stream",
          "name": "stderr",
          "text": [
            "100%|██████████| 78/78 [00:01<00:00, 66.30it/s]\n"
          ]
        },
        {
          "output_type": "stream",
          "name": "stdout",
          "text": [
            "106 total_loss:  0.32449290734214276 ,train_acc:  0.9887505022097239 ,valid_loss:  0.32265031524933874 ,valid_acc:  0.990369181380417\n"
          ]
        },
        {
          "output_type": "stream",
          "name": "stderr",
          "text": [
            "100%|██████████| 78/78 [00:01<00:00, 67.42it/s]\n"
          ]
        },
        {
          "output_type": "stream",
          "name": "stdout",
          "text": [
            "107 total_loss:  0.32489232402390394 ,train_acc:  0.9883487344314998 ,valid_loss:  0.3242830955206106 ,valid_acc:  0.9887640449438199\n"
          ]
        },
        {
          "output_type": "stream",
          "name": "stderr",
          "text": [
            "100%|██████████| 78/78 [00:01<00:00, 65.55it/s]\n"
          ]
        },
        {
          "output_type": "stream",
          "name": "stdout",
          "text": [
            "Epoch 00109: reducing learning rate of group 0 to 1.0000e-05.\n",
            "108 total_loss:  0.3249117032046884 ,train_acc:  0.9883487344314998 ,valid_loss:  0.32268636327857775 ,valid_acc:  0.990369181380417\n"
          ]
        },
        {
          "output_type": "stream",
          "name": "stderr",
          "text": [
            "100%|██████████| 78/78 [00:01<00:00, 49.34it/s]\n"
          ]
        },
        {
          "output_type": "stream",
          "name": "stdout",
          "text": [
            "109 total_loss:  0.3248881282074711 ,train_acc:  0.9883487344314997 ,valid_loss:  0.322642672949781 ,valid_acc:  0.990369181380417\n"
          ]
        },
        {
          "output_type": "stream",
          "name": "stderr",
          "text": [
            "100%|██████████| 78/78 [00:01<00:00, 53.77it/s]\n"
          ]
        },
        {
          "output_type": "stream",
          "name": "stdout",
          "text": [
            "110 total_loss:  0.32527260650713474 ,train_acc:  0.9879469666532755 ,valid_loss:  0.32264479882083835 ,valid_acc:  0.990369181380417\n"
          ]
        },
        {
          "output_type": "stream",
          "name": "stderr",
          "text": [
            "100%|██████████| 78/78 [00:01<00:00, 66.68it/s]\n"
          ]
        },
        {
          "output_type": "stream",
          "name": "stdout",
          "text": [
            "111 total_loss:  0.3261798669455143 ,train_acc:  0.9871434310968271 ,valid_loss:  0.32401845773371557 ,valid_acc:  0.9887640449438199\n"
          ]
        },
        {
          "output_type": "stream",
          "name": "stderr",
          "text": [
            "100%|██████████| 78/78 [00:01<00:00, 67.75it/s]\n"
          ]
        },
        {
          "output_type": "stream",
          "name": "stdout",
          "text": [
            "112 total_loss:  0.3252913312962613 ,train_acc:  0.9879469666532756 ,valid_loss:  0.3229518583261718 ,valid_acc:  0.990369181380417\n"
          ]
        },
        {
          "output_type": "stream",
          "name": "stderr",
          "text": [
            "100%|██████████| 78/78 [00:01<00:00, 67.14it/s]\n"
          ]
        },
        {
          "output_type": "stream",
          "name": "stdout",
          "text": [
            "113 total_loss:  0.3253402006697769 ,train_acc:  0.9879469666532755 ,valid_loss:  0.32538439785440765 ,valid_acc:  0.9887640449438198\n"
          ]
        },
        {
          "output_type": "stream",
          "name": "stderr",
          "text": [
            "100%|██████████| 78/78 [00:01<00:00, 67.34it/s]\n"
          ]
        },
        {
          "output_type": "stream",
          "name": "stdout",
          "text": [
            "114 total_loss:  0.32538183974245416 ,train_acc:  0.9879469666532755 ,valid_loss:  0.32415848651280005 ,valid_acc:  0.9887640449438199\n"
          ]
        },
        {
          "output_type": "stream",
          "name": "stderr",
          "text": [
            "100%|██████████| 78/78 [00:01<00:00, 65.41it/s]\n"
          ]
        },
        {
          "output_type": "stream",
          "name": "stdout",
          "text": [
            "115 total_loss:  0.3246053066553595 ,train_acc:  0.9887505022097239 ,valid_loss:  0.3259879714716226 ,valid_acc:  0.9887640449438198\n"
          ]
        },
        {
          "output_type": "stream",
          "name": "stderr",
          "text": [
            "100%|██████████| 78/78 [00:01<00:00, 65.85it/s]\n"
          ]
        },
        {
          "output_type": "stream",
          "name": "stdout",
          "text": [
            "116 total_loss:  0.32449801958667546 ,train_acc:  0.988750502209724 ,valid_loss:  0.3228446312279751 ,valid_acc:  0.990369181380417\n"
          ]
        },
        {
          "output_type": "stream",
          "name": "stderr",
          "text": [
            "100%|██████████| 78/78 [00:01<00:00, 59.08it/s]\n"
          ]
        },
        {
          "output_type": "stream",
          "name": "stdout",
          "text": [
            "117 total_loss:  0.32563526541949844 ,train_acc:  0.9875451988750512 ,valid_loss:  0.3241931723989546 ,valid_acc:  0.9887640449438199\n"
          ]
        },
        {
          "output_type": "stream",
          "name": "stderr",
          "text": [
            "100%|██████████| 78/78 [00:01<00:00, 46.23it/s]\n"
          ]
        },
        {
          "output_type": "stream",
          "name": "stdout",
          "text": [
            "118 total_loss:  0.3245982967603665 ,train_acc:  0.988750502209724 ,valid_loss:  0.32441049080962936 ,valid_acc:  0.990369181380417\n"
          ]
        },
        {
          "output_type": "stream",
          "name": "stderr",
          "text": [
            "100%|██████████| 78/78 [00:01<00:00, 56.96it/s]\n"
          ]
        },
        {
          "output_type": "stream",
          "name": "stdout",
          "text": [
            "119 total_loss:  0.32529864355205346 ,train_acc:  0.9879469666532755 ,valid_loss:  0.32264066711999473 ,valid_acc:  0.990369181380417\n"
          ]
        },
        {
          "output_type": "stream",
          "name": "stderr",
          "text": [
            "100%|██████████| 78/78 [00:01<00:00, 66.85it/s]\n"
          ]
        },
        {
          "output_type": "stream",
          "name": "stdout",
          "text": [
            "120 total_loss:  0.3253811416087242 ,train_acc:  0.9875451988750513 ,valid_loss:  0.3257904083095491 ,valid_acc:  0.9871589085072228\n"
          ]
        },
        {
          "output_type": "stream",
          "name": "stderr",
          "text": [
            "100%|██████████| 78/78 [00:01<00:00, 67.62it/s]\n"
          ]
        },
        {
          "output_type": "stream",
          "name": "stdout",
          "text": [
            "121 total_loss:  0.32489658791810655 ,train_acc:  0.9883487344314997 ,valid_loss:  0.32728236253994203 ,valid_acc:  0.9855537720706257\n"
          ]
        },
        {
          "output_type": "stream",
          "name": "stderr",
          "text": [
            "100%|██████████| 78/78 [00:01<00:00, 65.88it/s]\n"
          ]
        },
        {
          "output_type": "stream",
          "name": "stdout",
          "text": [
            "122 total_loss:  0.32502725168632773 ,train_acc:  0.9883487344314997 ,valid_loss:  0.32564371176374457 ,valid_acc:  0.9871589085072228\n"
          ]
        },
        {
          "output_type": "stream",
          "name": "stderr",
          "text": [
            "100%|██████████| 78/78 [00:01<00:00, 64.37it/s]\n"
          ]
        },
        {
          "output_type": "stream",
          "name": "stdout",
          "text": [
            "123 total_loss:  0.3257357283127614 ,train_acc:  0.9875451988750513 ,valid_loss:  0.3226544530317187 ,valid_acc:  0.990369181380417\n"
          ]
        },
        {
          "output_type": "stream",
          "name": "stderr",
          "text": [
            "100%|██████████| 78/78 [00:01<00:00, 63.96it/s]\n"
          ]
        },
        {
          "output_type": "stream",
          "name": "stdout",
          "text": [
            "124 total_loss:  0.3246276221419565 ,train_acc:  0.9887505022097239 ,valid_loss:  0.3248340357032915 ,valid_acc:  0.990369181380417\n"
          ]
        },
        {
          "output_type": "stream",
          "name": "stderr",
          "text": [
            "100%|██████████| 78/78 [00:01<00:00, 67.21it/s]\n"
          ]
        },
        {
          "output_type": "stream",
          "name": "stdout",
          "text": [
            "125 total_loss:  0.3256776409080396 ,train_acc:  0.9875451988750513 ,valid_loss:  0.3248725754705568 ,valid_acc:  0.9871589085072228\n"
          ]
        },
        {
          "output_type": "stream",
          "name": "stderr",
          "text": [
            "100%|██████████| 78/78 [00:01<00:00, 56.51it/s]\n"
          ]
        },
        {
          "output_type": "stream",
          "name": "stdout",
          "text": [
            "126 total_loss:  0.3245939966883415 ,train_acc:  0.9887505022097239 ,valid_loss:  0.3226692451350391 ,valid_acc:  0.990369181380417\n"
          ]
        },
        {
          "output_type": "stream",
          "name": "stderr",
          "text": [
            "100%|██████████| 78/78 [00:01<00:00, 47.90it/s]\n"
          ]
        },
        {
          "output_type": "stream",
          "name": "stdout",
          "text": [
            "127 total_loss:  0.3252890058907752 ,train_acc:  0.9879469666532756 ,valid_loss:  0.3284553576167673 ,valid_acc:  0.9871589085072227\n"
          ]
        },
        {
          "output_type": "stream",
          "name": "stderr",
          "text": [
            "100%|██████████| 78/78 [00:01<00:00, 63.31it/s]\n"
          ]
        },
        {
          "output_type": "stream",
          "name": "stdout",
          "text": [
            "128 total_loss:  0.32451073185994456 ,train_acc:  0.9887505022097239 ,valid_loss:  0.32264198511838915 ,valid_acc:  0.990369181380417\n"
          ]
        },
        {
          "output_type": "stream",
          "name": "stderr",
          "text": [
            "100%|██████████| 78/78 [00:01<00:00, 67.86it/s]\n"
          ]
        },
        {
          "output_type": "stream",
          "name": "stdout",
          "text": [
            "129 total_loss:  0.32427262026482284 ,train_acc:  0.9891522699879483 ,valid_loss:  0.324419614430517 ,valid_acc:  0.990369181380417\n"
          ]
        },
        {
          "output_type": "stream",
          "name": "stderr",
          "text": [
            "100%|██████████| 78/78 [00:01<00:00, 68.26it/s]\n"
          ]
        },
        {
          "output_type": "stream",
          "name": "stdout",
          "text": [
            "130 total_loss:  0.3249787248288974 ,train_acc:  0.9883487344314997 ,valid_loss:  0.32447903525705135 ,valid_acc:  0.990369181380417\n"
          ]
        },
        {
          "output_type": "stream",
          "name": "stderr",
          "text": [
            "100%|██████████| 78/78 [00:01<00:00, 67.74it/s]\n"
          ]
        },
        {
          "output_type": "stream",
          "name": "stdout",
          "text": [
            "131 total_loss:  0.3251174502499784 ,train_acc:  0.9879469666532755 ,valid_loss:  0.32269826797458034 ,valid_acc:  0.990369181380417\n"
          ]
        },
        {
          "output_type": "stream",
          "name": "stderr",
          "text": [
            "100%|██████████| 78/78 [00:01<00:00, 66.67it/s]\n"
          ]
        },
        {
          "output_type": "stream",
          "name": "stdout",
          "text": [
            "132 total_loss:  0.32449130252529035 ,train_acc:  0.988750502209724 ,valid_loss:  0.32597628482617436 ,valid_acc:  0.9887640449438198\n"
          ]
        },
        {
          "output_type": "stream",
          "name": "stderr",
          "text": [
            "100%|██████████| 78/78 [00:01<00:00, 66.43it/s]\n"
          ]
        },
        {
          "output_type": "stream",
          "name": "stdout",
          "text": [
            "133 total_loss:  0.3252927126802313 ,train_acc:  0.9879469666532756 ,valid_loss:  0.32268915803792575 ,valid_acc:  0.990369181380417\n"
          ]
        },
        {
          "output_type": "stream",
          "name": "stderr",
          "text": [
            "100%|██████████| 78/78 [00:01<00:00, 66.08it/s]\n"
          ]
        },
        {
          "output_type": "stream",
          "name": "stdout",
          "text": [
            "134 total_loss:  0.32487846708784884 ,train_acc:  0.9883487344314997 ,valid_loss:  0.322639672740673 ,valid_acc:  0.990369181380417\n"
          ]
        },
        {
          "output_type": "stream",
          "name": "stderr",
          "text": [
            "100%|██████████| 78/78 [00:01<00:00, 59.05it/s]\n"
          ]
        },
        {
          "output_type": "stream",
          "name": "stdout",
          "text": [
            "135 total_loss:  0.3249986139541635 ,train_acc:  0.9883487344314997 ,valid_loss:  0.32415574070066216 ,valid_acc:  0.9887640449438199\n"
          ]
        },
        {
          "output_type": "stream",
          "name": "stderr",
          "text": [
            "100%|██████████| 78/78 [00:01<00:00, 46.81it/s]\n"
          ]
        },
        {
          "output_type": "stream",
          "name": "stdout",
          "text": [
            "136 total_loss:  0.32489491084112954 ,train_acc:  0.9883487344314997 ,valid_loss:  0.32264575478310387 ,valid_acc:  0.990369181380417\n"
          ]
        },
        {
          "output_type": "stream",
          "name": "stderr",
          "text": [
            "100%|██████████| 78/78 [00:01<00:00, 65.03it/s]\n"
          ]
        },
        {
          "output_type": "stream",
          "name": "stdout",
          "text": [
            "137 total_loss:  0.32495065346169166 ,train_acc:  0.9883487344314998 ,valid_loss:  0.3243395851521442 ,valid_acc:  0.9887640449438199\n"
          ]
        },
        {
          "output_type": "stream",
          "name": "stderr",
          "text": [
            "100%|██████████| 78/78 [00:01<00:00, 66.96it/s]\n"
          ]
        },
        {
          "output_type": "stream",
          "name": "stdout",
          "text": [
            "138 total_loss:  0.3243138838884158 ,train_acc:  0.9891522699879481 ,valid_loss:  0.3226468369892488 ,valid_acc:  0.990369181380417\n"
          ]
        },
        {
          "output_type": "stream",
          "name": "stderr",
          "text": [
            "100%|██████████| 78/78 [00:01<00:00, 69.51it/s]\n"
          ]
        },
        {
          "output_type": "stream",
          "name": "stdout",
          "text": [
            "139 total_loss:  0.32488482515351513 ,train_acc:  0.9883487344314998 ,valid_loss:  0.32265183933079244 ,valid_acc:  0.990369181380417\n"
          ]
        },
        {
          "output_type": "stream",
          "name": "stderr",
          "text": [
            "100%|██████████| 78/78 [00:01<00:00, 66.76it/s]\n"
          ]
        },
        {
          "output_type": "stream",
          "name": "stdout",
          "text": [
            "140 total_loss:  0.3249062548195704 ,train_acc:  0.9883487344314998 ,valid_loss:  0.322648083101958 ,valid_acc:  0.990369181380417\n"
          ]
        },
        {
          "output_type": "stream",
          "name": "stderr",
          "text": [
            "100%|██████████| 78/78 [00:01<00:00, 66.38it/s]\n"
          ]
        },
        {
          "output_type": "stream",
          "name": "stdout",
          "text": [
            "141 total_loss:  0.32460072746643653 ,train_acc:  0.9887505022097239 ,valid_loss:  0.3226412526921679 ,valid_acc:  0.990369181380417\n"
          ]
        },
        {
          "output_type": "stream",
          "name": "stderr",
          "text": [
            "100%|██████████| 78/78 [00:01<00:00, 67.04it/s]\n"
          ]
        },
        {
          "output_type": "stream",
          "name": "stdout",
          "text": [
            "142 total_loss:  0.32489293492327515 ,train_acc:  0.9883487344314997 ,valid_loss:  0.32264560658174257 ,valid_acc:  0.990369181380417\n"
          ]
        },
        {
          "output_type": "stream",
          "name": "stderr",
          "text": [
            "100%|██████████| 78/78 [00:01<00:00, 67.68it/s]\n"
          ]
        },
        {
          "output_type": "stream",
          "name": "stdout",
          "text": [
            "143 total_loss:  0.32557116076827813 ,train_acc:  0.9879469666532755 ,valid_loss:  0.3242040632106364 ,valid_acc:  0.9887640449438199\n"
          ]
        },
        {
          "output_type": "stream",
          "name": "stderr",
          "text": [
            "100%|██████████| 78/78 [00:01<00:00, 58.16it/s]\n"
          ]
        },
        {
          "output_type": "stream",
          "name": "stdout",
          "text": [
            "144 total_loss:  0.3249233707193381 ,train_acc:  0.9883487344314998 ,valid_loss:  0.3226425701317688 ,valid_acc:  0.990369181380417\n"
          ]
        },
        {
          "output_type": "stream",
          "name": "stderr",
          "text": [
            "100%|██████████| 78/78 [00:01<00:00, 48.07it/s]\n"
          ]
        },
        {
          "output_type": "stream",
          "name": "stdout",
          "text": [
            "145 total_loss:  0.3253394662775099 ,train_acc:  0.9879469666532755 ,valid_loss:  0.3226413866815468 ,valid_acc:  0.990369181380417\n"
          ]
        },
        {
          "output_type": "stream",
          "name": "stderr",
          "text": [
            "100%|██████████| 78/78 [00:01<00:00, 65.36it/s]\n"
          ]
        },
        {
          "output_type": "stream",
          "name": "stdout",
          "text": [
            "146 total_loss:  0.3253149613217475 ,train_acc:  0.9879469666532755 ,valid_loss:  0.32264026193569106 ,valid_acc:  0.990369181380417\n"
          ]
        },
        {
          "output_type": "stream",
          "name": "stderr",
          "text": [
            "100%|██████████| 78/78 [00:01<00:00, 67.61it/s]\n"
          ]
        },
        {
          "output_type": "stream",
          "name": "stdout",
          "text": [
            "147 total_loss:  0.32575119602279023 ,train_acc:  0.9875451988750514 ,valid_loss:  0.3242115885857493 ,valid_acc:  0.9887640449438199\n"
          ]
        },
        {
          "output_type": "stream",
          "name": "stderr",
          "text": [
            "100%|██████████| 78/78 [00:01<00:00, 66.31it/s]\n"
          ]
        },
        {
          "output_type": "stream",
          "name": "stdout",
          "text": [
            "148 total_loss:  0.3244866716914261 ,train_acc:  0.9887505022097239 ,valid_loss:  0.3233941170790543 ,valid_acc:  0.9887640449438199\n"
          ]
        },
        {
          "output_type": "stream",
          "name": "stderr",
          "text": [
            "100%|██████████| 78/78 [00:01<00:00, 68.85it/s]\n"
          ]
        },
        {
          "output_type": "stream",
          "name": "stdout",
          "text": [
            "149 total_loss:  0.3248846856924968 ,train_acc:  0.9883487344314997 ,valid_loss:  0.32265491798209645 ,valid_acc:  0.990369181380417\n"
          ]
        },
        {
          "output_type": "stream",
          "name": "stderr",
          "text": [
            "100%|██████████| 78/78 [00:01<00:00, 64.09it/s]\n"
          ]
        },
        {
          "output_type": "stream",
          "name": "stdout",
          "text": [
            "150 total_loss:  0.3246057786520284 ,train_acc:  0.9887505022097239 ,valid_loss:  0.3226411297637969 ,valid_acc:  0.990369181380417\n"
          ]
        },
        {
          "output_type": "stream",
          "name": "stderr",
          "text": [
            "100%|██████████| 78/78 [00:01<00:00, 65.78it/s]\n"
          ]
        },
        {
          "output_type": "stream",
          "name": "stdout",
          "text": [
            "151 total_loss:  0.3249142948170312 ,train_acc:  0.9883487344314996 ,valid_loss:  0.3242033570601294 ,valid_acc:  0.9887640449438199\n"
          ]
        },
        {
          "output_type": "stream",
          "name": "stderr",
          "text": [
            "100%|██████████| 78/78 [00:01<00:00, 69.64it/s]\n"
          ]
        },
        {
          "output_type": "stream",
          "name": "stdout",
          "text": [
            "152 total_loss:  0.32487606178730344 ,train_acc:  0.9883487344314997 ,valid_loss:  0.3242068862821907 ,valid_acc:  0.9887640449438199\n"
          ]
        },
        {
          "output_type": "stream",
          "name": "stderr",
          "text": [
            "100%|██████████| 78/78 [00:01<00:00, 59.97it/s]\n"
          ]
        },
        {
          "output_type": "stream",
          "name": "stdout",
          "text": [
            "153 total_loss:  0.3261974356471537 ,train_acc:  0.9871434310968271 ,valid_loss:  0.3242249104349563 ,valid_acc:  0.9887640449438199\n"
          ]
        },
        {
          "output_type": "stream",
          "name": "stderr",
          "text": [
            "100%|██████████| 78/78 [00:01<00:00, 48.67it/s]\n"
          ]
        },
        {
          "output_type": "stream",
          "name": "stdout",
          "text": [
            "154 total_loss:  0.3246185866275277 ,train_acc:  0.9887505022097239 ,valid_loss:  0.32492730554503696 ,valid_acc:  0.9871589085072228\n"
          ]
        },
        {
          "output_type": "stream",
          "name": "stderr",
          "text": [
            "100%|██████████| 78/78 [00:01<00:00, 63.44it/s]\n"
          ]
        },
        {
          "output_type": "stream",
          "name": "stdout",
          "text": [
            "155 total_loss:  0.32459594352123067 ,train_acc:  0.9887505022097239 ,valid_loss:  0.3236851001530886 ,valid_acc:  0.9887640449438199\n"
          ]
        },
        {
          "output_type": "stream",
          "name": "stderr",
          "text": [
            "100%|██████████| 78/78 [00:01<00:00, 67.36it/s]\n"
          ]
        },
        {
          "output_type": "stream",
          "name": "stdout",
          "text": [
            "156 total_loss:  0.32492958410380357 ,train_acc:  0.9883487344314997 ,valid_loss:  0.3226389554484437 ,valid_acc:  0.990369181380417\n"
          ]
        },
        {
          "output_type": "stream",
          "name": "stderr",
          "text": [
            "100%|██████████| 78/78 [00:01<00:00, 66.24it/s]\n"
          ]
        },
        {
          "output_type": "stream",
          "name": "stdout",
          "text": [
            "157 total_loss:  0.324490934898838 ,train_acc:  0.9887505022097239 ,valid_loss:  0.32265601165282226 ,valid_acc:  0.990369181380417\n"
          ]
        },
        {
          "output_type": "stream",
          "name": "stderr",
          "text": [
            "100%|██████████| 78/78 [00:01<00:00, 65.86it/s]\n"
          ]
        },
        {
          "output_type": "stream",
          "name": "stdout",
          "text": [
            "158 total_loss:  0.3256054598881075 ,train_acc:  0.9875451988750512 ,valid_loss:  0.32263932515246174 ,valid_acc:  0.990369181380417\n"
          ]
        },
        {
          "output_type": "stream",
          "name": "stderr",
          "text": [
            "100%|██████████| 78/78 [00:01<00:00, 66.88it/s]\n"
          ]
        },
        {
          "output_type": "stream",
          "name": "stdout",
          "text": [
            "159 total_loss:  0.32451235007590207 ,train_acc:  0.9887505022097239 ,valid_loss:  0.3258024373681595 ,valid_acc:  0.9871589085072228\n"
          ]
        },
        {
          "output_type": "stream",
          "name": "stderr",
          "text": [
            "100%|██████████| 78/78 [00:01<00:00, 66.12it/s]\n"
          ]
        },
        {
          "output_type": "stream",
          "name": "stdout",
          "text": [
            "160 total_loss:  0.32520716071558686 ,train_acc:  0.9879469666532755 ,valid_loss:  0.32566241824378567 ,valid_acc:  0.9887640449438198\n"
          ]
        },
        {
          "output_type": "stream",
          "name": "stderr",
          "text": [
            "100%|██████████| 78/78 [00:01<00:00, 66.14it/s]\n"
          ]
        },
        {
          "output_type": "stream",
          "name": "stdout",
          "text": [
            "161 total_loss:  0.3248982276724508 ,train_acc:  0.9883487344314997 ,valid_loss:  0.32264304674230515 ,valid_acc:  0.990369181380417\n"
          ]
        },
        {
          "output_type": "stream",
          "name": "stderr",
          "text": [
            "100%|██████████| 78/78 [00:01<00:00, 58.68it/s]\n"
          ]
        },
        {
          "output_type": "stream",
          "name": "stdout",
          "text": [
            "162 total_loss:  0.3249109470505172 ,train_acc:  0.9883487344314997 ,valid_loss:  0.3270636456708113 ,valid_acc:  0.9871589085072228\n"
          ]
        },
        {
          "output_type": "stream",
          "name": "stderr",
          "text": [
            "100%|██████████| 78/78 [00:01<00:00, 48.67it/s]\n"
          ]
        },
        {
          "output_type": "stream",
          "name": "stdout",
          "text": [
            "163 total_loss:  0.32502594080538705 ,train_acc:  0.9883487344314997 ,valid_loss:  0.3226788081073513 ,valid_acc:  0.990369181380417\n"
          ]
        },
        {
          "output_type": "stream",
          "name": "stderr",
          "text": [
            "100%|██████████| 78/78 [00:01<00:00, 60.96it/s]\n"
          ]
        },
        {
          "output_type": "stream",
          "name": "stdout",
          "text": [
            "164 total_loss:  0.324641984851601 ,train_acc:  0.9887505022097239 ,valid_loss:  0.323292583739385 ,valid_acc:  0.990369181380417\n"
          ]
        },
        {
          "output_type": "stream",
          "name": "stderr",
          "text": [
            "100%|██████████| 78/78 [00:01<00:00, 66.45it/s]\n"
          ]
        },
        {
          "output_type": "stream",
          "name": "stdout",
          "text": [
            "165 total_loss:  0.32461654189066624 ,train_acc:  0.988750502209724 ,valid_loss:  0.32598842813012496 ,valid_acc:  0.9871589085072228\n"
          ]
        },
        {
          "output_type": "stream",
          "name": "stderr",
          "text": [
            "100%|██████████| 78/78 [00:01<00:00, 66.21it/s]\n"
          ]
        },
        {
          "output_type": "stream",
          "name": "stdout",
          "text": [
            "166 total_loss:  0.32525410931032056 ,train_acc:  0.9879469666532756 ,valid_loss:  0.3229703000063697 ,valid_acc:  0.990369181380417\n"
          ]
        },
        {
          "output_type": "stream",
          "name": "stderr",
          "text": [
            "100%|██████████| 78/78 [00:01<00:00, 65.09it/s]\n"
          ]
        },
        {
          "output_type": "stream",
          "name": "stdout",
          "text": [
            "167 total_loss:  0.3248301446839021 ,train_acc:  0.9883487344314998 ,valid_loss:  0.32423053024336695 ,valid_acc:  0.9887640449438199\n"
          ]
        },
        {
          "output_type": "stream",
          "name": "stderr",
          "text": [
            "100%|██████████| 78/78 [00:01<00:00, 67.64it/s]\n"
          ]
        },
        {
          "output_type": "stream",
          "name": "stdout",
          "text": [
            "168 total_loss:  0.3241993274128972 ,train_acc:  0.9891522699879481 ,valid_loss:  0.3275327092626442 ,valid_acc:  0.9871589085072228\n"
          ]
        },
        {
          "output_type": "stream",
          "name": "stderr",
          "text": [
            "100%|██████████| 78/78 [00:01<00:00, 67.39it/s]\n"
          ]
        },
        {
          "output_type": "stream",
          "name": "stdout",
          "text": [
            "169 total_loss:  0.32478263684094716 ,train_acc:  0.9883487344314997 ,valid_loss:  0.3226453261449933 ,valid_acc:  0.990369181380417\n"
          ]
        },
        {
          "output_type": "stream",
          "name": "stderr",
          "text": [
            "100%|██████████| 78/78 [00:01<00:00, 68.61it/s]\n"
          ]
        },
        {
          "output_type": "stream",
          "name": "stdout",
          "text": [
            "170 total_loss:  0.32492377109777854 ,train_acc:  0.9883487344314997 ,valid_loss:  0.322643319806084 ,valid_acc:  0.990369181380417\n"
          ]
        },
        {
          "output_type": "stream",
          "name": "stderr",
          "text": [
            "100%|██████████| 78/78 [00:01<00:00, 58.55it/s]\n"
          ]
        },
        {
          "output_type": "stream",
          "name": "stdout",
          "text": [
            "171 total_loss:  0.3246413487654466 ,train_acc:  0.9887505022097239 ,valid_loss:  0.3226712907943875 ,valid_acc:  0.990369181380417\n"
          ]
        },
        {
          "output_type": "stream",
          "name": "stderr",
          "text": [
            "100%|██████████| 78/78 [00:01<00:00, 46.18it/s]\n"
          ]
        },
        {
          "output_type": "stream",
          "name": "stdout",
          "text": [
            "172 total_loss:  0.32401626555153573 ,train_acc:  0.9895540377661723 ,valid_loss:  0.32270853746682404 ,valid_acc:  0.990369181380417\n"
          ]
        },
        {
          "output_type": "stream",
          "name": "stderr",
          "text": [
            "100%|██████████| 78/78 [00:01<00:00, 64.22it/s]\n"
          ]
        },
        {
          "output_type": "stream",
          "name": "stdout",
          "text": [
            "173 total_loss:  0.3237986550575648 ,train_acc:  0.9895540377661723 ,valid_loss:  0.3242018503167977 ,valid_acc:  0.9887640449438199\n"
          ]
        },
        {
          "output_type": "stream",
          "name": "stderr",
          "text": [
            "100%|██████████| 78/78 [00:01<00:00, 68.48it/s]\n"
          ]
        },
        {
          "output_type": "stream",
          "name": "stdout",
          "text": [
            "174 total_loss:  0.324886826054217 ,train_acc:  0.9883487344314996 ,valid_loss:  0.3242087426657478 ,valid_acc:  0.9887640449438199\n"
          ]
        },
        {
          "output_type": "stream",
          "name": "stderr",
          "text": [
            "100%|██████████| 78/78 [00:01<00:00, 63.90it/s]\n"
          ]
        },
        {
          "output_type": "stream",
          "name": "stdout",
          "text": [
            "175 total_loss:  0.3248487880548988 ,train_acc:  0.9883487344314997 ,valid_loss:  0.3227037997512768 ,valid_acc:  0.990369181380417\n"
          ]
        },
        {
          "output_type": "stream",
          "name": "stderr",
          "text": [
            "100%|██████████| 78/78 [00:01<00:00, 68.16it/s]\n"
          ]
        },
        {
          "output_type": "stream",
          "name": "stdout",
          "text": [
            "176 total_loss:  0.3249949486969182 ,train_acc:  0.9883487344314997 ,valid_loss:  0.32421571261870363 ,valid_acc:  0.9887640449438199\n"
          ]
        },
        {
          "output_type": "stream",
          "name": "stderr",
          "text": [
            "100%|██████████| 78/78 [00:01<00:00, 67.80it/s]\n"
          ]
        },
        {
          "output_type": "stream",
          "name": "stdout",
          "text": [
            "177 total_loss:  0.32410335027732146 ,train_acc:  0.9891522699879481 ,valid_loss:  0.3226464707000802 ,valid_acc:  0.990369181380417\n"
          ]
        },
        {
          "output_type": "stream",
          "name": "stderr",
          "text": [
            "100%|██████████| 78/78 [00:01<00:00, 68.08it/s]\n"
          ]
        },
        {
          "output_type": "stream",
          "name": "stdout",
          "text": [
            "178 total_loss:  0.3247831149590321 ,train_acc:  0.9883487344314998 ,valid_loss:  0.32473479111368453 ,valid_acc:  0.9887640449438199\n"
          ]
        },
        {
          "output_type": "stream",
          "name": "stderr",
          "text": [
            "100%|██████████| 78/78 [00:01<00:00, 67.81it/s]\n"
          ]
        },
        {
          "output_type": "stream",
          "name": "stdout",
          "text": [
            "179 total_loss:  0.3250967418263929 ,train_acc:  0.9879469666532755 ,valid_loss:  0.3226479191829761 ,valid_acc:  0.990369181380417\n"
          ]
        },
        {
          "output_type": "stream",
          "name": "stderr",
          "text": [
            "100%|██████████| 78/78 [00:01<00:00, 58.54it/s]\n"
          ]
        },
        {
          "output_type": "stream",
          "name": "stdout",
          "text": [
            "180 total_loss:  0.32490488856218946 ,train_acc:  0.9883487344314998 ,valid_loss:  0.32264141547804076 ,valid_acc:  0.990369181380417\n"
          ]
        },
        {
          "output_type": "stream",
          "name": "stderr",
          "text": [
            "100%|██████████| 78/78 [00:01<00:00, 45.97it/s]\n"
          ]
        },
        {
          "output_type": "stream",
          "name": "stdout",
          "text": [
            "181 total_loss:  0.32455809492570087 ,train_acc:  0.9887505022097239 ,valid_loss:  0.32304683017234004 ,valid_acc:  0.990369181380417\n"
          ]
        },
        {
          "output_type": "stream",
          "name": "stderr",
          "text": [
            "100%|██████████| 78/78 [00:01<00:00, 65.72it/s]\n"
          ]
        },
        {
          "output_type": "stream",
          "name": "stdout",
          "text": [
            "182 total_loss:  0.32486016186145256 ,train_acc:  0.9883487344314998 ,valid_loss:  0.3226613522414118 ,valid_acc:  0.990369181380417\n"
          ]
        },
        {
          "output_type": "stream",
          "name": "stderr",
          "text": [
            "100%|██████████| 78/78 [00:01<00:00, 68.03it/s]\n"
          ]
        },
        {
          "output_type": "stream",
          "name": "stdout",
          "text": [
            "183 total_loss:  0.32463007623234236 ,train_acc:  0.988750502209724 ,valid_loss:  0.3226457918000718 ,valid_acc:  0.990369181380417\n"
          ]
        },
        {
          "output_type": "stream",
          "name": "stderr",
          "text": [
            "100%|██████████| 78/78 [00:01<00:00, 66.07it/s]\n"
          ]
        },
        {
          "output_type": "stream",
          "name": "stdout",
          "text": [
            "184 total_loss:  0.32419631125023346 ,train_acc:  0.9891522699879481 ,valid_loss:  0.3242114720276247 ,valid_acc:  0.9887640449438199\n"
          ]
        },
        {
          "output_type": "stream",
          "name": "stderr",
          "text": [
            "100%|██████████| 78/78 [00:01<00:00, 67.07it/s]\n"
          ]
        },
        {
          "output_type": "stream",
          "name": "stdout",
          "text": [
            "185 total_loss:  0.3240914716791266 ,train_acc:  0.9891522699879481 ,valid_loss:  0.32757617708295583 ,valid_acc:  0.9871589085072228\n"
          ]
        },
        {
          "output_type": "stream",
          "name": "stderr",
          "text": [
            "100%|██████████| 78/78 [00:01<00:00, 65.88it/s]\n"
          ]
        },
        {
          "output_type": "stream",
          "name": "stdout",
          "text": [
            "186 total_loss:  0.32420450142990703 ,train_acc:  0.9891522699879481 ,valid_loss:  0.323165657799691 ,valid_acc:  0.990369181380417\n"
          ]
        },
        {
          "output_type": "stream",
          "name": "stderr",
          "text": [
            "100%|██████████| 78/78 [00:01<00:00, 68.85it/s]\n"
          ]
        },
        {
          "output_type": "stream",
          "name": "stdout",
          "text": [
            "187 total_loss:  0.3251198339772721 ,train_acc:  0.9879469666532755 ,valid_loss:  0.32266361775808033 ,valid_acc:  0.990369181380417\n"
          ]
        },
        {
          "output_type": "stream",
          "name": "stderr",
          "text": [
            "100%|██████████| 78/78 [00:01<00:00, 68.66it/s]\n"
          ]
        },
        {
          "output_type": "stream",
          "name": "stdout",
          "text": [
            "188 total_loss:  0.3242051253725703 ,train_acc:  0.9891522699879481 ,valid_loss:  0.32264742511324584 ,valid_acc:  0.990369181380417\n"
          ]
        },
        {
          "output_type": "stream",
          "name": "stderr",
          "text": [
            "100%|██████████| 78/78 [00:01<00:00, 58.06it/s]\n"
          ]
        },
        {
          "output_type": "stream",
          "name": "stdout",
          "text": [
            "189 total_loss:  0.32412026038106817 ,train_acc:  0.9891522699879481 ,valid_loss:  0.32271351743179066 ,valid_acc:  0.990369181380417\n"
          ]
        },
        {
          "output_type": "stream",
          "name": "stderr",
          "text": [
            "100%|██████████| 78/78 [00:01<00:00, 49.46it/s]\n"
          ]
        },
        {
          "output_type": "stream",
          "name": "stdout",
          "text": [
            "190 total_loss:  0.3243380892993166 ,train_acc:  0.9891522699879481 ,valid_loss:  0.32269422735708453 ,valid_acc:  0.990369181380417\n"
          ]
        },
        {
          "output_type": "stream",
          "name": "stderr",
          "text": [
            "100%|██████████| 78/78 [00:01<00:00, 63.90it/s]\n"
          ]
        },
        {
          "output_type": "stream",
          "name": "stdout",
          "text": [
            "191 total_loss:  0.3248646823383677 ,train_acc:  0.9883487344314997 ,valid_loss:  0.32264527857614056 ,valid_acc:  0.990369181380417\n"
          ]
        },
        {
          "output_type": "stream",
          "name": "stderr",
          "text": [
            "100%|██████████| 78/78 [00:01<00:00, 66.97it/s]\n"
          ]
        },
        {
          "output_type": "stream",
          "name": "stdout",
          "text": [
            "192 total_loss:  0.3242237212871894 ,train_acc:  0.9887505022097239 ,valid_loss:  0.3258277856403341 ,valid_acc:  0.9871589085072228\n"
          ]
        },
        {
          "output_type": "stream",
          "name": "stderr",
          "text": [
            "100%|██████████| 78/78 [00:01<00:00, 65.49it/s]\n"
          ]
        },
        {
          "output_type": "stream",
          "name": "stdout",
          "text": [
            "193 total_loss:  0.32451007904246065 ,train_acc:  0.9887505022097239 ,valid_loss:  0.322658241779233 ,valid_acc:  0.990369181380417\n"
          ]
        },
        {
          "output_type": "stream",
          "name": "stderr",
          "text": [
            "100%|██████████| 78/78 [00:01<00:00, 66.56it/s]\n"
          ]
        },
        {
          "output_type": "stream",
          "name": "stdout",
          "text": [
            "194 total_loss:  0.32495207330546316 ,train_acc:  0.9883487344314997 ,valid_loss:  0.3226452047129472 ,valid_acc:  0.990369181380417\n"
          ]
        },
        {
          "output_type": "stream",
          "name": "stderr",
          "text": [
            "100%|██████████| 78/78 [00:01<00:00, 65.61it/s]\n"
          ]
        },
        {
          "output_type": "stream",
          "name": "stdout",
          "text": [
            "195 total_loss:  0.3248996731557716 ,train_acc:  0.9883487344314998 ,valid_loss:  0.32421083231456577 ,valid_acc:  0.9887640449438199\n"
          ]
        },
        {
          "output_type": "stream",
          "name": "stderr",
          "text": [
            "100%|██████████| 78/78 [00:01<00:00, 66.74it/s]\n"
          ]
        },
        {
          "output_type": "stream",
          "name": "stdout",
          "text": [
            "196 total_loss:  0.3238069717896481 ,train_acc:  0.9895540377661723 ,valid_loss:  0.3226563658254842 ,valid_acc:  0.990369181380417\n"
          ]
        },
        {
          "output_type": "stream",
          "name": "stderr",
          "text": [
            "100%|██████████| 78/78 [00:01<00:00, 68.67it/s]\n"
          ]
        },
        {
          "output_type": "stream",
          "name": "stdout",
          "text": [
            "197 total_loss:  0.32414315328479576 ,train_acc:  0.9891522699879481 ,valid_loss:  0.3226464195890973 ,valid_acc:  0.990369181380417\n"
          ]
        },
        {
          "output_type": "stream",
          "name": "stderr",
          "text": [
            "100%|██████████| 78/78 [00:01<00:00, 58.36it/s]\n"
          ]
        },
        {
          "output_type": "stream",
          "name": "stdout",
          "text": [
            "198 total_loss:  0.3242102750433752 ,train_acc:  0.9891522699879481 ,valid_loss:  0.32279928399560354 ,valid_acc:  0.9903691813804169\n"
          ]
        },
        {
          "output_type": "stream",
          "name": "stderr",
          "text": [
            "100%|██████████| 78/78 [00:01<00:00, 46.90it/s]\n"
          ]
        },
        {
          "output_type": "stream",
          "name": "stdout",
          "text": [
            "199 total_loss:  0.3244875477712888 ,train_acc:  0.9887505022097239 ,valid_loss:  0.3226472699518005 ,valid_acc:  0.990369181380417\n"
          ]
        }
      ]
    },
    {
      "cell_type": "code",
      "source": [
        "!pip install onnx"
      ],
      "metadata": {
        "colab": {
          "base_uri": "https://localhost:8080/"
        },
        "id": "-YQ6q5l3Pm-o",
        "outputId": "e59f61c8-830b-4405-9cfb-d23dbdccc454"
      },
      "execution_count": null,
      "outputs": [
        {
          "output_type": "stream",
          "name": "stdout",
          "text": [
            "Collecting onnx\n",
            "  Downloading onnx-1.15.0-cp310-cp310-manylinux_2_17_x86_64.manylinux2014_x86_64.whl (15.7 MB)\n",
            "\u001b[2K     \u001b[90m━━━━━━━━━━━━━━━━━━━━━━━━━━━━━━━━━━━━━━━━\u001b[0m \u001b[32m15.7/15.7 MB\u001b[0m \u001b[31m50.6 MB/s\u001b[0m eta \u001b[36m0:00:00\u001b[0m\n",
            "\u001b[?25hRequirement already satisfied: numpy in /usr/local/lib/python3.10/dist-packages (from onnx) (1.23.5)\n",
            "Requirement already satisfied: protobuf>=3.20.2 in /usr/local/lib/python3.10/dist-packages (from onnx) (3.20.3)\n",
            "Installing collected packages: onnx\n",
            "Successfully installed onnx-1.15.0\n"
          ]
        }
      ]
    },
    {
      "cell_type": "code",
      "source": [
        "dummy = torch.ones(1, 40, 136).to(device), torch.ones(1, 40, 17, 2).to(device)\n",
        "model.load_state_dict(torch.load('/content/drive/MyDrive/Climbing wall/weights/200_withfake_best.pth'))\n",
        "model.to(device)\n",
        "torch.onnx.export(model, dummy, '/content/drive/MyDrive/Climbing wall/weights/200_new_DDNet.onnx', input_names = ['M', 'P'], verbose = True)"
      ],
      "metadata": {
        "id": "ZjjyvtczjIT-"
      },
      "execution_count": null,
      "outputs": []
    },
    {
      "cell_type": "code",
      "source": [
        "!pip install onnxruntime"
      ],
      "metadata": {
        "colab": {
          "base_uri": "https://localhost:8080/"
        },
        "id": "4pH8vWp2QwCG",
        "outputId": "15dbf194-956a-4d5c-9780-1968cb4f50e9"
      },
      "execution_count": null,
      "outputs": [
        {
          "output_type": "stream",
          "name": "stdout",
          "text": [
            "Collecting onnxruntime\n",
            "  Downloading onnxruntime-1.17.0-cp310-cp310-manylinux_2_27_x86_64.manylinux_2_28_x86_64.whl (6.8 MB)\n",
            "\u001b[2K     \u001b[90m━━━━━━━━━━━━━━━━━━━━━━━━━━━━━━━━━━━━━━━━\u001b[0m \u001b[32m6.8/6.8 MB\u001b[0m \u001b[31m15.2 MB/s\u001b[0m eta \u001b[36m0:00:00\u001b[0m\n",
            "\u001b[?25hCollecting coloredlogs (from onnxruntime)\n",
            "  Downloading coloredlogs-15.0.1-py2.py3-none-any.whl (46 kB)\n",
            "\u001b[2K     \u001b[90m━━━━━━━━━━━━━━━━━━━━━━━━━━━━━━━━━━━━━━━━\u001b[0m \u001b[32m46.0/46.0 kB\u001b[0m \u001b[31m7.3 MB/s\u001b[0m eta \u001b[36m0:00:00\u001b[0m\n",
            "\u001b[?25hRequirement already satisfied: flatbuffers in /usr/local/lib/python3.10/dist-packages (from onnxruntime) (23.5.26)\n",
            "Requirement already satisfied: numpy>=1.21.6 in /usr/local/lib/python3.10/dist-packages (from onnxruntime) (1.23.5)\n",
            "Requirement already satisfied: packaging in /usr/local/lib/python3.10/dist-packages (from onnxruntime) (23.2)\n",
            "Requirement already satisfied: protobuf in /usr/local/lib/python3.10/dist-packages (from onnxruntime) (3.20.3)\n",
            "Requirement already satisfied: sympy in /usr/local/lib/python3.10/dist-packages (from onnxruntime) (1.12)\n",
            "Collecting humanfriendly>=9.1 (from coloredlogs->onnxruntime)\n",
            "  Downloading humanfriendly-10.0-py2.py3-none-any.whl (86 kB)\n",
            "\u001b[2K     \u001b[90m━━━━━━━━━━━━━━━━━━━━━━━━━━━━━━━━━━━━━━━━\u001b[0m \u001b[32m86.8/86.8 kB\u001b[0m \u001b[31m13.5 MB/s\u001b[0m eta \u001b[36m0:00:00\u001b[0m\n",
            "\u001b[?25hRequirement already satisfied: mpmath>=0.19 in /usr/local/lib/python3.10/dist-packages (from sympy->onnxruntime) (1.3.0)\n",
            "Installing collected packages: humanfriendly, coloredlogs, onnxruntime\n",
            "Successfully installed coloredlogs-15.0.1 humanfriendly-10.0 onnxruntime-1.17.0\n"
          ]
        }
      ]
    },
    {
      "cell_type": "code",
      "source": [
        "\n",
        "# [1, 0, 0]: sleep      [0, 1, 0]: usephone     [0, 0, 1]: nosleep\n",
        "\n",
        "\n",
        "import onnxruntime as ort\n",
        "path_to_model = '/content/drive/MyDrive/Climbing wall/weights/200_new_DDNet.onnx'\n",
        "ort_sess = ort.InferenceSession(path_to_model)\n",
        "\n",
        "true = 0\n",
        "for i, p in enumerate(X_1_test):\n",
        "\n",
        "    # p = np.random.randn(40, 18, 2)\n",
        "\n",
        "    # p = zoom(p,target_l=C.frame_l,joints_num=C.joint_n,joints_dim=C.joint_d)\n",
        "    # M = get_CG(p,C)\n",
        "\n",
        "    p = torch.FloatTensor(X_1_test[i]).unsqueeze(dim=0).numpy()\n",
        "    M = torch.FloatTensor(X_0_test[i]).unsqueeze(dim=0).numpy()\n",
        "    outputs = ort_sess.run(None, {'M': M, 'P':p})\n",
        "\n",
        "    # input = torch.FloatTensor(X_1_test[i]).unsqueeze(dim=0).permute(0, 2, 1, 3).numpy()\n",
        "    # outputs = ort_sess.run(None, {'input.1': input})\n",
        "    pred = np.argmax(outputs[0])\n",
        "    # cls = ''\n",
        "    # if pred == 0:\n",
        "    #     cls = 'sleep'\n",
        "    # elif pred == 1:\n",
        "    #     cls = 'usephone'\n",
        "    # else:\n",
        "    #     cls = 'nosleep'\n",
        "\n",
        "    if pred == np.argmax(Y_test[i]):\n",
        "        true += 1\n",
        "\n",
        "\n",
        "print(\"Acc:\", true/len(Y_test))"
      ],
      "metadata": {
        "id": "RWGBJudKi6k0",
        "colab": {
          "base_uri": "https://localhost:8080/"
        },
        "outputId": "1ec1f020-446e-4404-bdd0-2784b142d61e"
      },
      "execution_count": null,
      "outputs": [
        {
          "output_type": "stream",
          "name": "stdout",
          "text": [
            "Acc: 0.9903691813804173\n"
          ]
        }
      ]
    },
    {
      "cell_type": "code",
      "source": [],
      "metadata": {
        "id": "fphC1RoLi6ha"
      },
      "execution_count": null,
      "outputs": []
    },
    {
      "cell_type": "code",
      "source": [],
      "metadata": {
        "id": "GrxwcLwci6dQ"
      },
      "execution_count": null,
      "outputs": []
    },
    {
      "cell_type": "code",
      "source": [],
      "metadata": {
        "id": "qLfB1m53ibpZ"
      },
      "execution_count": null,
      "outputs": []
    }
  ]
}